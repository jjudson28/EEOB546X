{
 "cells": [
  {
   "cell_type": "markdown",
   "metadata": {},
   "source": [
    "# Workflow for Python Assignment"
   ]
  },
  {
   "cell_type": "markdown",
   "metadata": {},
   "source": [
    "## 1. Document Dr. X's Code! "
   ]
  },
  {
   "cell_type": "markdown",
   "metadata": {},
   "source": [
    "### Set-up"
   ]
  },
  {
   "cell_type": "code",
   "execution_count": 1,
   "metadata": {
    "collapsed": true
   },
   "outputs": [],
   "source": [
    "from Bio import SeqIO #from Biopython, import SeqIO, which is the standard Sequence Input/Output interface \n",
    "from Bio.Data import CodonTable #from the data package, import CodonTable, which can return tables of codons\n",
    "import pandas as pd #import pandas to work with dataframes in python"
   ]
  },
  {
   "cell_type": "markdown",
   "metadata": {},
   "source": [
    "### Function"
   ]
  },
  {
   "cell_type": "code",
   "execution_count": 2,
   "metadata": {
    "collapsed": true
   },
   "outputs": [],
   "source": [
    "#This code defines a function called get_sequences_from_file that takes a file in fasta format and populates a dictionary with the species name (the keys) and the corresponding sequence (the values)\n",
    "\n",
    "def get_sequences_from_file(fasta_fn): #define a function entitled \"get_sequences_from_file\" using the argument fasta_fn, which should be a file in fasta format \n",
    "    sequence_data_dict = {} #create an empty dictionary\n",
    "    for record in SeqIO.parse(fasta_fn, \"fasta\"): #SeqIO.parse is a function that takes a file (fasta_fn) and a format (fasta) and returns a SeqRecord iterator, which is an object used in Biopython to hold a sequence \n",
    "        description = record.description.split() #description is a variable that holds each record in fasta_fn with the string of descriptors and sequence (ex: Ursus americanus ACGT) with the sequence description split into words by .description.split so that we can access individual parts of the string\n",
    "        species_name = description[1] + \" \" + description[2] #species_name is a variable that takes the word after the SeqRecord (ex:Ursus; the second word in the variable 'description') and puts a space and then the following word (spelaeus) to form the species name\n",
    "        sequence_data_dict[species_name] = record.seq #specifies that the species_name for the dictionary is the key by which you can access the corresponding sequence and is the record ID\n",
    "    return(sequence_data_dict) #return the created dictionary"
   ]
  },
  {
   "cell_type": "markdown",
   "metadata": {},
   "source": [
    "### Test of the function"
   ]
  },
  {
   "cell_type": "code",
   "execution_count": 3,
   "metadata": {
    "collapsed": false
   },
   "outputs": [
    {
     "name": "stdout",
     "output_type": "stream",
     "text": [
      "{'Ursus spelaeus': Seq('ATGACCAACATCCGAAAAACCCATCCATTAGCTAAAATCATCAACAACTCATTT...AGA', SingleLetterAlphabet()), 'Ursus arctos': Seq('ATGACCAACATCCGAAAAACCCACCCATTAGCTAAAATCATCAACAACTCACTT...AGA', SingleLetterAlphabet()), 'Ursus thibetanus': Seq('ATGACCAACATCCGAAAAACCCATCCATTAGCCAAAATCATCAACAACTCACTC...AGA', SingleLetterAlphabet()), 'Melursus ursinus': Seq('ATGACCAACATCCGAAAAACCCACCCATTAGCTAAAATCATTAACAACTCACTC...AGA', SingleLetterAlphabet()), 'Ursus americanus': Seq('ATGACCAACATCCGAAAAACCCACCCATTAGCTAAAATCATCAACAACTCACTT...AGA', SingleLetterAlphabet()), 'Helarctos malayanus': Seq('ATGACCAACATCCGAAAAACCCACCCATTAGCTAAAATCATTAACAACTCACTT...AGA', SingleLetterAlphabet()), 'Ailuropoda melanoleuca': Seq('ATGATCAACATCCGAAAAACTCATCCATTAGTTAAAATTATCAACAACTCATTC...AGA', SingleLetterAlphabet()), 'Tremarctos ornatus': Seq('ATGACCAACATCCGAAAAACTCACCCACTAGCTAAAATCATCAACAGCTCATTC...AGA', SingleLetterAlphabet()), 'Ursus maritimus': Seq('ATGACCAACATCCGAAAAACCCACCCATTAGCTAAAATCATCAACAACTCATTT...AGA', SingleLetterAlphabet())}\n"
     ]
    }
   ],
   "source": [
    "#Example of a run of the function to ensure it works\n",
    "bears = get_sequences_from_file(\"bears_cytb.fasta\")\n",
    "print(bears)"
   ]
  },
  {
   "cell_type": "code",
   "execution_count": 4,
   "metadata": {
    "collapsed": false
   },
   "outputs": [
    {
     "data": {
      "text/plain": [
       "dict_keys(['Ursus spelaeus', 'Ursus arctos', 'Ursus thibetanus', 'Melursus ursinus', 'Ursus americanus', 'Helarctos malayanus', 'Ailuropoda melanoleuca', 'Tremarctos ornatus', 'Ursus maritimus'])"
      ]
     },
     "execution_count": 4,
     "metadata": {},
     "output_type": "execute_result"
    }
   ],
   "source": [
    "#Check that keys for the created dictionary are the Species Names\n",
    "bears.keys()"
   ]
  },
  {
   "cell_type": "markdown",
   "metadata": {},
   "source": [
    "## 2. My String Translate Function!"
   ]
  },
  {
   "cell_type": "markdown",
   "metadata": {},
   "source": [
    "### Set-up"
   ]
  },
  {
   "cell_type": "code",
   "execution_count": 5,
   "metadata": {
    "collapsed": false
   },
   "outputs": [
    {
     "name": "stdout",
     "output_type": "stream",
     "text": [
      "CCCCTTCATGATCCTAGCCCTATGAGGCATTGTAATAACCAGCTCCATCTGCATACGACAAACAGACCTAAAATCACTAATCGCTTACTCCTCAGTAAGCCACATAGGCCTGGTCACCACCGCATGCCTAATCCAAACCCCATGAAGCATCACCGGAGCCATAATCCTAATAATCGCCCACGGCCTAACATCCTCCATACTATTCTGCCTAGCCAACACCAACTACGAACGGACCCATACTCGAACCCTAATTCTGGCACGAGGCCTCCAAACCATCCTCCCACTGATAGCGTCCTGATGACTCCTTGCCAACTTGACAAACATGGCACTCCCCCCAACCATCAACCTAATAGGAGAACTTATAATTATCTCCGCCCTCTTTAACTGATCAACTCCAACAATTATCCTAACGGGCCTGGGAACCTTAATCACAGCAATCTATTCACTACACATATTCCTAATAACACAACGAAACAAACTCCCACTCCACATAACCATGATAAACCCAACACACACCCGAGAACACCTAATCATAGCCCTACACATGCTACCACTCACCATACTAATCATAAAACCCACCCTCATTTCAAGCATATTACCCTGTTAGCATAGTTTAATAAAAACACTAGGACGTGGCCCTAAAAACAGAAGTTTAACCCTTCTTGCAAACCGAGAGGTGTTCAGAACA\n"
     ]
    }
   ],
   "source": [
    "#sample file with string of nucleotides from a mitochondrial sequence\n",
    "with open('string_nucleotides.txt', 'r') as myfile:\n",
    "    sample=myfile.read()\n",
    "print(sample)"
   ]
  },
  {
   "cell_type": "code",
   "execution_count": 6,
   "metadata": {
    "collapsed": false,
    "scrolled": false
   },
   "outputs": [
    {
     "name": "stdout",
     "output_type": "stream",
     "text": [
      "Table 2 Vertebrate Mitochondrial, SGC1\n",
      "\n",
      "  |  T      |  C      |  A      |  G      |\n",
      "--+---------+---------+---------+---------+--\n",
      "T | TTT F   | TCT S   | TAT Y   | TGT C   | T\n",
      "T | TTC F   | TCC S   | TAC Y   | TGC C   | C\n",
      "T | TTA L   | TCA S   | TAA Stop| TGA W   | A\n",
      "T | TTG L   | TCG S   | TAG Stop| TGG W   | G\n",
      "--+---------+---------+---------+---------+--\n",
      "C | CTT L   | CCT P   | CAT H   | CGT R   | T\n",
      "C | CTC L   | CCC P   | CAC H   | CGC R   | C\n",
      "C | CTA L   | CCA P   | CAA Q   | CGA R   | A\n",
      "C | CTG L   | CCG P   | CAG Q   | CGG R   | G\n",
      "--+---------+---------+---------+---------+--\n",
      "A | ATT I(s)| ACT T   | AAT N   | AGT S   | T\n",
      "A | ATC I(s)| ACC T   | AAC N   | AGC S   | C\n",
      "A | ATA M(s)| ACA T   | AAA K   | AGA Stop| A\n",
      "A | ATG M(s)| ACG T   | AAG K   | AGG Stop| G\n",
      "--+---------+---------+---------+---------+--\n",
      "G | GTT V   | GCT A   | GAT D   | GGT G   | T\n",
      "G | GTC V   | GCC A   | GAC D   | GGC G   | C\n",
      "G | GTA V   | GCA A   | GAA E   | GGA G   | A\n",
      "G | GTG V(s)| GCG A   | GAG E   | GGG G   | G\n",
      "--+---------+---------+---------+---------+--\n"
     ]
    }
   ],
   "source": [
    "#Check out the codon table\n",
    "mito_table = CodonTable.unambiguous_dna_by_name[\"Vertebrate Mitochondrial\"] #returns a simple text representation of the codon table\n",
    "print(mito_table)"
   ]
  },
  {
   "cell_type": "markdown",
   "metadata": {},
   "source": [
    "### Function "
   ]
  },
  {
   "cell_type": "code",
   "execution_count": 7,
   "metadata": {
    "collapsed": false
   },
   "outputs": [],
   "source": [
    "#This function takes a string of nucleotides and specified stop codons as an argument and outputs the sequence translated into amino acids as a string\n",
    "\n",
    "from itertools import takewhile #takewhile allows you to specify that you want to take codons unless they fit a certain criteria (e.g. stop codon), then the code breaks\n",
    "def string_translate(string_nucleotides, stop_codons = ('TAA', 'TAG', 'AGA', 'AGG')): #defines a function called string_translate that takes two arguments: the file and the specified stop codons\n",
    "    mito_table = CodonTable.unambiguous_dna_by_name[\"Vertebrate Mitochondrial\"] #returns a simple text representation of the codon table\n",
    "    codon = [string_nucleotides[i:i+3] for i in range(0, len(string_nucleotides), 3)] #for loop over all nucleotides (i) through the length of the nucleotide string starting with position zero with a step size of 3 and defines that a codon is three nucleotides [i:i+3] \n",
    "    coding_sequence  =  takewhile(lambda x: x not in stop_codons, codon) #loops through the codons in the codon variable and keeps every codon until it finds one that is a stop codon, then it stops\n",
    "    protein_sequence = ''.join([mito_table.forward_table[codon] for codon in coding_sequence]) #loops over the codons in coding_sequence, classifies each codon into an amino acid using the codon table, and joins the amino acids one by one to a string called protein_sequence\n",
    "    return(protein_sequence) #outputs the amino acids as a string"
   ]
  },
  {
   "cell_type": "markdown",
   "metadata": {},
   "source": [
    "### Test of the Function"
   ]
  },
  {
   "cell_type": "code",
   "execution_count": 8,
   "metadata": {
    "collapsed": false
   },
   "outputs": [
    {
     "data": {
      "text/plain": [
       "'PLHDPSPM'"
      ]
     },
     "execution_count": 8,
     "metadata": {},
     "output_type": "execute_result"
    }
   ],
   "source": [
    "#try out my new function with the sample sequence from before\n",
    "string_translate(sample, stop_codons = ('TAA', 'TAG', 'AGA', 'AGG'))"
   ]
  },
  {
   "cell_type": "code",
   "execution_count": 9,
   "metadata": {
    "collapsed": false
   },
   "outputs": [
    {
     "data": {
      "text/plain": [
       "str"
      ]
     },
     "execution_count": 9,
     "metadata": {},
     "output_type": "execute_result"
    }
   ],
   "source": [
    "#verify that the output is a string\n",
    "type(string_translate(sample, stop_codons = ('TAA', 'TAG', 'AGA', 'AGG')))"
   ]
  },
  {
   "cell_type": "markdown",
   "metadata": {
    "collapsed": true
   },
   "source": [
    "## 3. My Alternative Function! "
   ]
  },
  {
   "cell_type": "markdown",
   "metadata": {},
   "source": [
    "### Set-up"
   ]
  },
  {
   "cell_type": "code",
   "execution_count": 10,
   "metadata": {
    "collapsed": true
   },
   "outputs": [],
   "source": [
    "from Bio.Seq import Seq #seq is an object that can be read by existing biopython functions\n",
    "from Bio.Alphabet import IUPAC #loads an existing alphabet for DNA, RNA, and protein sequences"
   ]
  },
  {
   "cell_type": "markdown",
   "metadata": {},
   "source": [
    "### Function"
   ]
  },
  {
   "cell_type": "code",
   "execution_count": 11,
   "metadata": {
    "collapsed": false
   },
   "outputs": [],
   "source": [
    "#This function uses existing features of BioPython: the argument input is the nucleotide string and the output is a Bio.Seq.Seq object containing the amino acid string corresponding to the nucleotide string\n",
    "\n",
    "def alternative_string_translate(string_nucleotides): #defines the function alternative_string_translate that takes a string of nucleotides as the argument\n",
    "    coding_dna = Seq(string_nucleotides, IUPAC.ambiguous_dna) #creates a variable that contains a seq object made from the nucleotide string with the IUPAC.ambiguous_dna alphabet \n",
    "    return coding_dna.translate(table=\"Vertebrate Mitochondrial\", to_stop=True) #return the amino acid string corresponding to the nucleotide string using the existing BioPython '.translate' function and the Vertebrate Mitochondrial table translations, stopping when the code reaches a stop codon "
   ]
  },
  {
   "cell_type": "markdown",
   "metadata": {},
   "source": [
    "### Test the Function"
   ]
  },
  {
   "cell_type": "code",
   "execution_count": 12,
   "metadata": {
    "collapsed": false,
    "scrolled": true
   },
   "outputs": [
    {
     "name": "stderr",
     "output_type": "stream",
     "text": [
      "/Users/jessicajudson/anaconda/lib/python3.6/site-packages/Bio/Seq.py:2071: BiopythonWarning: Partial codon, len(sequence) not a multiple of three. Explicitly trim the sequence or add trailing N before translation. This may become an error in future.\n",
      "  BiopythonWarning)\n"
     ]
    },
    {
     "data": {
      "text/plain": [
       "Seq('PLHDPSPM', ExtendedIUPACProtein())"
      ]
     },
     "execution_count": 12,
     "metadata": {},
     "output_type": "execute_result"
    }
   ],
   "source": [
    "alternative_string_translate(sample)"
   ]
  },
  {
   "cell_type": "code",
   "execution_count": 13,
   "metadata": {
    "collapsed": false
   },
   "outputs": [
    {
     "name": "stderr",
     "output_type": "stream",
     "text": [
      "/Users/jessicajudson/anaconda/lib/python3.6/site-packages/Bio/Seq.py:2071: BiopythonWarning: Partial codon, len(sequence) not a multiple of three. Explicitly trim the sequence or add trailing N before translation. This may become an error in future.\n",
      "  BiopythonWarning)\n"
     ]
    },
    {
     "data": {
      "text/plain": [
       "Bio.Seq.Seq"
      ]
     },
     "execution_count": 13,
     "metadata": {},
     "output_type": "execute_result"
    }
   ],
   "source": [
    "#verify that the output is a Bio.Seq.Seq object\n",
    "type(alternative_string_translate(sample))"
   ]
  },
  {
   "cell_type": "markdown",
   "metadata": {},
   "source": [
    "## 4. My Count Amino Acid Function"
   ]
  },
  {
   "cell_type": "markdown",
   "metadata": {},
   "source": [
    "### Set-up"
   ]
  },
  {
   "cell_type": "code",
   "execution_count": 14,
   "metadata": {
    "collapsed": false,
    "scrolled": true
   },
   "outputs": [],
   "source": [
    "#variable to test with first string_translate function\n",
    "sampleaa = string_translate(sample, stop_codons = ('TAA', 'TAG', 'AGA', 'AGG'))"
   ]
  },
  {
   "cell_type": "code",
   "execution_count": 15,
   "metadata": {
    "collapsed": false,
    "scrolled": true
   },
   "outputs": [
    {
     "name": "stderr",
     "output_type": "stream",
     "text": [
      "/Users/jessicajudson/anaconda/lib/python3.6/site-packages/Bio/Seq.py:2071: BiopythonWarning: Partial codon, len(sequence) not a multiple of three. Explicitly trim the sequence or add trailing N before translation. This may become an error in future.\n",
      "  BiopythonWarning)\n"
     ]
    }
   ],
   "source": [
    "#variable to test with alternative string_translate function\n",
    "samplebb = alternative_string_translate(sample)"
   ]
  },
  {
   "cell_type": "markdown",
   "metadata": {},
   "source": [
    "### Function"
   ]
  },
  {
   "cell_type": "code",
   "execution_count": 16,
   "metadata": {
    "collapsed": true
   },
   "outputs": [],
   "source": [
    "#define the groups of \"residues\" or amino acid types\n",
    "charged = ['R','K','D','E']\n",
    "polar = ['Q','N','H','S','T','Y','C','M','W']\n",
    "hydrophobic = ['A','I','L','F','V','P','G']"
   ]
  },
  {
   "cell_type": "code",
   "execution_count": 17,
   "metadata": {
    "collapsed": true
   },
   "outputs": [],
   "source": [
    "#Function that takes the amino acid sequence and the residue group (e.g. charged, polar, hydrophobic) as arguments and \n",
    "#outputs the proportion of amino acids in the sequence belonging to each residue group\n",
    "\n",
    "def get_proportion_aa(aa_seq, residues): #define the function, taking the amino acid sequence and the residues as arguments\n",
    "    count = 0 #set the initial count to zero\n",
    "    for aa in aa_seq: #for loop over each amino acid in the sequence\n",
    "        if aa in residues: #if the amino acid in the sequence matches one in the specified residue,\n",
    "            count += 1 #add one to the count\n",
    "    return count/len(aa_seq) #return the count of matching amino acids to the residue group divided by the total number of amino acids in the sequence"
   ]
  },
  {
   "cell_type": "markdown",
   "metadata": {},
   "source": [
    "### Test the Function"
   ]
  },
  {
   "cell_type": "code",
   "execution_count": 18,
   "metadata": {
    "collapsed": false
   },
   "outputs": [
    {
     "name": "stdout",
     "output_type": "stream",
     "text": [
      "0.125 0.375 0.5\n"
     ]
    }
   ],
   "source": [
    "#sampleaa is a string: 'PLHDPSPM'\n",
    "#define variables for each proportion and print\n",
    "charged_number = get_proportion_aa(sampleaa, charged) #call the function, give the string and the residue arguments\n",
    "polar_number = get_proportion_aa(sampleaa, polar)\n",
    "hydrophobic_number = get_proportion_aa(sampleaa, hydrophobic)\n",
    "print(charged_number, polar_number, hydrophobic_number) #print the outputs"
   ]
  },
  {
   "cell_type": "code",
   "execution_count": 19,
   "metadata": {
    "collapsed": false
   },
   "outputs": [
    {
     "name": "stdout",
     "output_type": "stream",
     "text": [
      "0.125 0.375 0.5\n"
     ]
    }
   ],
   "source": [
    "#samplebb is a Bio.Seq.Seq object: Seq('PLHDPSPM', ExtendedIUPACProtein())\n",
    "charged_2 = get_proportion_aa(samplebb, charged)\n",
    "polar_2 = get_proportion_aa(samplebb, polar)\n",
    "hydrophobic_2 = get_proportion_aa(samplebb, hydrophobic)\n",
    "print(charged_2, polar_2, hydrophobic_2)"
   ]
  },
  {
   "cell_type": "markdown",
   "metadata": {
    "collapsed": true
   },
   "source": [
    "## 5. Translate and Proportion of Amino Acid Combined Function"
   ]
  },
  {
   "cell_type": "markdown",
   "metadata": {},
   "source": [
    "### Set-up"
   ]
  },
  {
   "cell_type": "code",
   "execution_count": 20,
   "metadata": {
    "collapsed": false
   },
   "outputs": [],
   "source": [
    "cytb_seqs = get_sequences_from_file(\"bears_cytb.fasta\") #run the function from part 1 on the fasta file\n",
    "\n",
    "bear_df = pd.read_csv(\"bears_data.csv\") # Includes only data for body mass currently and empty cells for other columns\n",
    "species_list = list(bear_df.species)"
   ]
  },
  {
   "cell_type": "code",
   "execution_count": 21,
   "metadata": {
    "collapsed": false
   },
   "outputs": [
    {
     "name": "stdout",
     "output_type": "stream",
     "text": [
      "                  species     mass  charged  polar  hydrophobic\n",
      "0          Ursus spelaeus  550.800      NaN    NaN          NaN\n",
      "1            Ursus arctos  203.500      NaN    NaN          NaN\n",
      "2        Ursus thibetanus   99.714      NaN    NaN          NaN\n",
      "3        Melursus ursinus  100.030      NaN    NaN          NaN\n",
      "4        Ursus americanus  110.560      NaN    NaN          NaN\n",
      "5     Helarctos malayanus   47.020      NaN    NaN          NaN\n",
      "6  Ailuropoda melanoleuca  118.200      NaN    NaN          NaN\n",
      "7      Tremarctos ornatus  140.700      NaN    NaN          NaN\n",
      "8         Ursus maritimus  425.100      NaN    NaN          NaN\n"
     ]
    }
   ],
   "source": [
    "print(bear_df) #look at the existing data table"
   ]
  },
  {
   "cell_type": "markdown",
   "metadata": {},
   "source": [
    "### Function"
   ]
  },
  {
   "cell_type": "code",
   "execution_count": 22,
   "metadata": {
    "collapsed": false
   },
   "outputs": [],
   "source": [
    "#This function takes a specific key (a species) from the sequence_data_dict created in the get_sequences_from_file function\n",
    "#as an argument and outputs the proportion of each amino acid type for that particular species\n",
    "\n",
    "def combined_function(x, sample_dict): #define the function\n",
    "    translate = alternative_string_translate(str(sample_dict[x])) #call the alternative_string_translate function on the sequence associated with the key in the dictionary, forcing it to be a string so that the function can read the sequence\n",
    "    proportion_charged = get_proportion_aa(translate, charged) #call the get_proportion_aa function on the translated sequence and with the desired residues\n",
    "    proportion_polar = get_proportion_aa(translate, polar)\n",
    "    proportion_hydrophobic = get_proportion_aa(translate, hydrophobic)\n",
    "    return proportion_charged, proportion_polar, proportion_hydrophobic #return the proportion of each amino acid type for the sequence associated with the specified key"
   ]
  },
  {
   "cell_type": "code",
   "execution_count": 23,
   "metadata": {
    "collapsed": false,
    "scrolled": true
   },
   "outputs": [],
   "source": [
    "#This part of the code specifies that for three columns of bear_df that we want to be filled, we will run the combined_function\n",
    "#on all of the sequences associated with the keys ('species') in the cytb_seqs dictionary, create a pd.Series (a list of the outputs of the combined_function corresponding to\n",
    "#all of the sequences in the cytb_seqs variable, specifying that the axis is 1 to indicate that I am interested in filling the columns), and add that series to the columns in bear_df \n",
    "#matching species names to keys using \"lambda row\" to fill each species row with the info for the charged, polar, and hydrophobic categories\n",
    "\n",
    "bear_df[['charged', 'polar', 'hydrophobic']] = bear_df.apply(lambda row: pd.Series(combined_function(row['species'], cytb_seqs)), axis = 1)"
   ]
  },
  {
   "cell_type": "markdown",
   "metadata": {},
   "source": [
    "### Output"
   ]
  },
  {
   "cell_type": "code",
   "execution_count": 24,
   "metadata": {
    "collapsed": false
   },
   "outputs": [
    {
     "name": "stdout",
     "output_type": "stream",
     "text": [
      "                  species     mass   charged     polar  hydrophobic\n",
      "0          Ursus spelaeus  550.800  0.092348  0.329815     0.577836\n",
      "1            Ursus arctos  203.500  0.092348  0.324538     0.583113\n",
      "2        Ursus thibetanus   99.714  0.092348  0.327177     0.580475\n",
      "3        Melursus ursinus  100.030  0.089710  0.340369     0.569921\n",
      "4        Ursus americanus  110.560  0.089710  0.337731     0.572559\n",
      "5     Helarctos malayanus   47.020  0.092348  0.340369     0.567282\n",
      "6  Ailuropoda melanoleuca  118.200  0.089710  0.343008     0.567282\n",
      "7      Tremarctos ornatus  140.700  0.089710  0.335092     0.575198\n",
      "8         Ursus maritimus  425.100  0.092348  0.327177     0.580475\n"
     ]
    }
   ],
   "source": [
    "print(bear_df)"
   ]
  },
  {
   "cell_type": "markdown",
   "metadata": {},
   "source": [
    "## 6. Bar Chart of Mass by Species"
   ]
  },
  {
   "cell_type": "markdown",
   "metadata": {},
   "source": [
    "### Set-up"
   ]
  },
  {
   "cell_type": "code",
   "execution_count": 25,
   "metadata": {
    "collapsed": true
   },
   "outputs": [],
   "source": [
    "%matplotlib inline\n",
    "from ggplot import *"
   ]
  },
  {
   "cell_type": "code",
   "execution_count": 26,
   "metadata": {
    "collapsed": false
   },
   "outputs": [
    {
     "name": "stdout",
     "output_type": "stream",
     "text": [
      "                  species     mass   charged     polar  hydrophobic\n",
      "0          Ursus spelaeus  550.800  0.092348  0.329815     0.577836\n",
      "1            Ursus arctos  203.500  0.092348  0.324538     0.583113\n",
      "2        Ursus thibetanus   99.714  0.092348  0.327177     0.580475\n",
      "3        Melursus ursinus  100.030  0.089710  0.340369     0.569921\n",
      "4        Ursus americanus  110.560  0.089710  0.337731     0.572559\n",
      "5     Helarctos malayanus   47.020  0.092348  0.340369     0.567282\n",
      "6  Ailuropoda melanoleuca  118.200  0.089710  0.343008     0.567282\n",
      "7      Tremarctos ornatus  140.700  0.089710  0.335092     0.575198\n",
      "8         Ursus maritimus  425.100  0.092348  0.327177     0.580475\n"
     ]
    }
   ],
   "source": [
    "print(bear_df)"
   ]
  },
  {
   "cell_type": "markdown",
   "metadata": {},
   "source": [
    "### Graph Method #1: Pandas"
   ]
  },
  {
   "cell_type": "code",
   "execution_count": 27,
   "metadata": {
    "collapsed": false,
    "scrolled": false
   },
   "outputs": [
    {
     "data": {
      "text/plain": [
       "<matplotlib.text.Text at 0x116077668>"
      ]
     },
     "execution_count": 27,
     "metadata": {},
     "output_type": "execute_result"
    },
    {
     "data": {
      "image/png": "[encoded data removed]",
      "text/plain": [
       "<matplotlib.figure.Figure at 0x1150eb7f0>"
      ]
     },
     "metadata": {},
     "output_type": "display_data"
    }
   ],
   "source": [
    "#This code is to plot species vs. weight using pandas:\n",
    "\n",
    "bear_weight = bear_df.plot(x = 'species', y = 'mass', kind='bar', legend = False, title = \"Bar Chart of Species Mass\")\n",
    "#specify x and y, that it's a bar chart, that I don't want a legend, specify the title\n",
    "bear_weight.set_xlabel(\"Species ID\") #set x-axis label\n",
    "bear_weight.set_ylabel(\"Weight\") #set y-axis label"
   ]
  },
  {
   "cell_type": "markdown",
   "metadata": {},
   "source": [
    "### Graph Method #2: Seaborn"
   ]
  },
  {
   "cell_type": "code",
   "execution_count": 28,
   "metadata": {
    "collapsed": false
   },
   "outputs": [
    {
     "data": {
      "image/png": "[encoded data removed]",
      "text/plain": [
       "<matplotlib.figure.Figure at 0x115faa2b0>"
      ]
     },
     "metadata": {},
     "output_type": "display_data"
    }
   ],
   "source": [
    "#to graph the same thing using seaborn\n",
    "import seaborn as sns\n",
    "sea_bear_weight = sns.barplot(x = 'species', y = 'mass', data=bear_df, palette=\"deep\") #specify x, y, data, and color palette \n",
    "sea_bear_weight.set(xlabel='Species', ylabel='Weight') #label axes\n",
    "for item in sea_bear_weight.get_xticklabels(): #set rotation of x-axis labels\n",
    "    item.set_rotation(65)"
   ]
  },
  {
   "cell_type": "markdown",
   "metadata": {},
   "source": [
    "### Graph Description"
   ]
  },
  {
   "cell_type": "markdown",
   "metadata": {},
   "source": [
    "The largest bear species is Ursus spelaeus. Interestingly, this species, called the cave bear, \n",
    "went extinct about 24000 years ago."
   ]
  },
  {
   "cell_type": "markdown",
   "metadata": {},
   "source": [
    "## 7. Proportion of Amino Acid for each Species"
   ]
  },
  {
   "cell_type": "markdown",
   "metadata": {
    "collapsed": true
   },
   "source": [
    "### Graph Method #1: Pandas"
   ]
  },
  {
   "cell_type": "code",
   "execution_count": 29,
   "metadata": {
    "collapsed": false
   },
   "outputs": [
    {
     "name": "stdout",
     "output_type": "stream",
     "text": [
      "                  species   charged     polar  hydrophobic\n",
      "0          Ursus spelaeus  0.092348  0.329815     0.577836\n",
      "1            Ursus arctos  0.092348  0.324538     0.583113\n",
      "2        Ursus thibetanus  0.092348  0.327177     0.580475\n",
      "3        Melursus ursinus  0.089710  0.340369     0.569921\n",
      "4        Ursus americanus  0.089710  0.337731     0.572559\n",
      "5     Helarctos malayanus  0.092348  0.340369     0.567282\n",
      "6  Ailuropoda melanoleuca  0.089710  0.343008     0.567282\n",
      "7      Tremarctos ornatus  0.089710  0.335092     0.575198\n",
      "8         Ursus maritimus  0.092348  0.327177     0.580475\n"
     ]
    }
   ],
   "source": [
    "#create a new dataframe without the mass column\n",
    "new_bear = bear_df[['species', 'charged', 'polar', 'hydrophobic']]\n",
    "print(new_bear)"
   ]
  },
  {
   "cell_type": "code",
   "execution_count": 30,
   "metadata": {
    "collapsed": false
   },
   "outputs": [
    {
     "data": {
      "text/plain": [
       "<matplotlib.legend.Legend at 0x1156fd4a8>"
      ]
     },
     "execution_count": 30,
     "metadata": {},
     "output_type": "execute_result"
    },
    {
     "data": {
      "image/png": "[encoded data removed]",
      "text/plain": [
       "<matplotlib.figure.Figure at 0x11600b908>"
      ]
     },
     "metadata": {},
     "output_type": "display_data"
    }
   ],
   "source": [
    "#create a stacked bar plot\n",
    "#use species as the x value, and specify that the other column values are stacked, give the graph a title\n",
    "pandas_plot = new_bear.plot(x = 'species', kind='bar',stacked=True,title=\"Proportion of Each Amino Acid Type by Species\")\n",
    "pandas_plot.set_ylabel(\"Proportion\") #set y-axis label\n",
    "pandas_plot.set_xlabel(\"Species\") #set x-axis label\n",
    "pandas_plot.legend(loc='center left', bbox_to_anchor=(1, 0.5)) #change the location of the legend to outside the graph"
   ]
  },
  {
   "cell_type": "markdown",
   "metadata": {},
   "source": [
    "### Graph Method #2: Bokeh"
   ]
  },
  {
   "cell_type": "code",
   "execution_count": 31,
   "metadata": {
    "collapsed": false,
    "scrolled": true
   },
   "outputs": [],
   "source": [
    "#import the needed tools from bokeh\n",
    "from bokeh.charts import Bar, output_file, show #bar chart utilities\n",
    "from bokeh.charts.attributes import cat, color\n",
    "from bokeh.charts.operations import blend"
   ]
  },
  {
   "cell_type": "code",
   "execution_count": 32,
   "metadata": {
    "collapsed": false
   },
   "outputs": [
    {
     "data": {
      "text/html": [
       "\n",
       "    <div class=\"bk-root\">\n",
       "        <a href=\"http://bokeh.pydata.org\" target=\"_blank\" class=\"bk-logo bk-logo-small bk-logo-notebook\"></a>\n",
       "        <span id=\"2c62a818-9a2d-478c-93c0-7f0da7d5989a\">Loading BokehJS ...</span>\n",
       "    </div>"
      ]
     },
     "metadata": {},
     "output_type": "display_data"
    },
    {
     "data": {
      "application/javascript": [
       "\n",
       "(function(global) {\n",
       "  function now() {\n",
       "    return new Date();\n",
       "  }\n",
       "\n",
       "  var force = true;\n",
       "\n",
       "  if (typeof (window._bokeh_onload_callbacks) === \"undefined\" || force === true) {\n",
       "    window._bokeh_onload_callbacks = [];\n",
       "    window._bokeh_is_loading = undefined;\n",
       "  }\n",
       "\n",
       "\n",
       "  \n",
       "  if (typeof (window._bokeh_timeout) === \"undefined\" || force === true) {\n",
       "    window._bokeh_timeout = Date.now() + 5000;\n",
       "    window._bokeh_failed_load = false;\n",
       "  }\n",
       "\n",
       "  var NB_LOAD_WARNING = {'data': {'text/html':\n",
       "     \"<div style='background-color: #fdd'>\\n\"+\n",
       "     \"<p>\\n\"+\n",
       "     \"BokehJS does not appear to have successfully loaded. If loading BokehJS from CDN, this \\n\"+\n",
       "     \"may be due to a slow or bad network connection. Possible fixes:\\n\"+\n",
       "     \"</p>\\n\"+\n",
       "     \"<ul>\\n\"+\n",
       "     \"<li>re-rerun `output_notebook()` to attempt to load from CDN again, or</li>\\n\"+\n",
       "     \"<li>use INLINE resources instead, as so:</li>\\n\"+\n",
       "     \"</ul>\\n\"+\n",
       "     \"<code>\\n\"+\n",
       "     \"from bokeh.resources import INLINE\\n\"+\n",
       "     \"output_notebook(resources=INLINE)\\n\"+\n",
       "     \"</code>\\n\"+\n",
       "     \"</div>\"}};\n",
       "\n",
       "  function display_loaded() {\n",
       "    if (window.Bokeh !== undefined) {\n",
       "      document.getElementById(\"2c62a818-9a2d-478c-93c0-7f0da7d5989a\").textContent = \"BokehJS successfully loaded.\";\n",
       "    } else if (Date.now() < window._bokeh_timeout) {\n",
       "      setTimeout(display_loaded, 100)\n",
       "    }\n",
       "  }\n",
       "\n",
       "  function run_callbacks() {\n",
       "    window._bokeh_onload_callbacks.forEach(function(callback) { callback() });\n",
       "    delete window._bokeh_onload_callbacks\n",
       "    console.info(\"Bokeh: all callbacks have finished\");\n",
       "  }\n",
       "\n",
       "  function load_libs(js_urls, callback) {\n",
       "    window._bokeh_onload_callbacks.push(callback);\n",
       "    if (window._bokeh_is_loading > 0) {\n",
       "      console.log(\"Bokeh: BokehJS is being loaded, scheduling callback at\", now());\n",
       "      return null;\n",
       "    }\n",
       "    if (js_urls == null || js_urls.length === 0) {\n",
       "      run_callbacks();\n",
       "      return null;\n",
       "    }\n",
       "    console.log(\"Bokeh: BokehJS not loaded, scheduling load and callback at\", now());\n",
       "    window._bokeh_is_loading = js_urls.length;\n",
       "    for (var i = 0; i < js_urls.length; i++) {\n",
       "      var url = js_urls[i];\n",
       "      var s = document.createElement('script');\n",
       "      s.src = url;\n",
       "      s.async = false;\n",
       "      s.onreadystatechange = s.onload = function() {\n",
       "        window._bokeh_is_loading--;\n",
       "        if (window._bokeh_is_loading === 0) {\n",
       "          console.log(\"Bokeh: all BokehJS libraries loaded\");\n",
       "          run_callbacks()\n",
       "        }\n",
       "      };\n",
       "      s.onerror = function() {\n",
       "        console.warn(\"failed to load library \" + url);\n",
       "      };\n",
       "      console.log(\"Bokeh: injecting script tag for BokehJS library: \", url);\n",
       "      document.getElementsByTagName(\"head\")[0].appendChild(s);\n",
       "    }\n",
       "  };var element = document.getElementById(\"2c62a818-9a2d-478c-93c0-7f0da7d5989a\");\n",
       "  if (element == null) {\n",
       "    console.log(\"Bokeh: ERROR: autoload.js configured with elementid '2c62a818-9a2d-478c-93c0-7f0da7d5989a' but no matching script tag was found. \")\n",
       "    return false;\n",
       "  }\n",
       "\n",
       "  var js_urls = [\"https://cdn.pydata.org/bokeh/release/bokeh-0.12.4.min.js\", \"https://cdn.pydata.org/bokeh/release/bokeh-widgets-0.12.4.min.js\"];\n",
       "\n",
       "  var inline_js = [\n",
       "    function(Bokeh) {\n",
       "      Bokeh.set_log_level(\"info\");\n",
       "    },\n",
       "    \n",
       "    function(Bokeh) {\n",
       "      \n",
       "      document.getElementById(\"2c62a818-9a2d-478c-93c0-7f0da7d5989a\").textContent = \"BokehJS is loading...\";\n",
       "    },\n",
       "    function(Bokeh) {\n",
       "      console.log(\"Bokeh: injecting CSS: https://cdn.pydata.org/bokeh/release/bokeh-0.12.4.min.css\");\n",
       "      Bokeh.embed.inject_css(\"https://cdn.pydata.org/bokeh/release/bokeh-0.12.4.min.css\");\n",
       "      console.log(\"Bokeh: injecting CSS: https://cdn.pydata.org/bokeh/release/bokeh-widgets-0.12.4.min.css\");\n",
       "      Bokeh.embed.inject_css(\"https://cdn.pydata.org/bokeh/release/bokeh-widgets-0.12.4.min.css\");\n",
       "    }\n",
       "  ];\n",
       "\n",
       "  function run_inline_js() {\n",
       "    \n",
       "    if ((window.Bokeh !== undefined) || (force === true)) {\n",
       "      for (var i = 0; i < inline_js.length; i++) {\n",
       "        inline_js[i](window.Bokeh);\n",
       "      }if (force === true) {\n",
       "        display_loaded();\n",
       "      }} else if (Date.now() < window._bokeh_timeout) {\n",
       "      setTimeout(run_inline_js, 100);\n",
       "    } else if (!window._bokeh_failed_load) {\n",
       "      console.log(\"Bokeh: BokehJS failed to load within specified timeout.\");\n",
       "      window._bokeh_failed_load = true;\n",
       "    } else if (force !== true) {\n",
       "      var cell = $(document.getElementById(\"2c62a818-9a2d-478c-93c0-7f0da7d5989a\")).parents('.cell').data().cell;\n",
       "      cell.output_area.append_execute_result(NB_LOAD_WARNING)\n",
       "    }\n",
       "\n",
       "  }\n",
       "\n",
       "  if (window._bokeh_is_loading === 0) {\n",
       "    console.log(\"Bokeh: BokehJS loaded, going straight to plotting\");\n",
       "    run_inline_js();\n",
       "  } else {\n",
       "    load_libs(js_urls, function() {\n",
       "      console.log(\"Bokeh: BokehJS plotting callback run at\", now());\n",
       "      run_inline_js();\n",
       "    });\n",
       "  }\n",
       "}(this));"
      ]
     },
     "metadata": {},
     "output_type": "display_data"
    }
   ],
   "source": [
    "#allow bokeh to display in jupyter notebook\n",
    "from bokeh.io import push_notebook, show, output_notebook\n",
    "output_notebook()"
   ]
  },
  {
   "cell_type": "code",
   "execution_count": 33,
   "metadata": {
    "collapsed": false
   },
   "outputs": [],
   "source": [
    "#create a variable that holds a stacked bar chart for the bear_df dataframe\n",
    "proportions = Bar(bear_df,\n",
    "          values=blend('charged', 'polar', 'hydrophobic', name='Proportions', labels_name='proportion'), #specify the three parts of the stacked bar and name the y axis\n",
    "          label=cat(columns='species', sort=False), #specify that the x axis is species\n",
    "          stack=cat(columns='proportion', sort=False), #specify stacking of the aforementioned columns\n",
    "          color=color(columns='proportion', palette=['aqua', 'chartreuse', 'deeppink'], #give a color palette\n",
    "                      sort=False),\n",
    "          legend='top_right', #specify legend location\n",
    "          title=\"Proportion of Amino Acid Types by Species\") #give it a title"
   ]
  },
  {
   "cell_type": "code",
   "execution_count": 34,
   "metadata": {
    "collapsed": false
   },
   "outputs": [
    {
     "data": {
      "text/html": [
       "\n",
       "\n",
       "    <div class=\"bk-root\">\n",
       "        <div class=\"bk-plotdiv\" id=\"f701aeb7-8635-4db1-9836-0a317386bd09\"></div>\n",
       "    </div>\n",
       "<script type=\"text/javascript\">\n",
       "  \n",
       "  (function(global) {\n",
       "    function now() {\n",
       "      return new Date();\n",
       "    }\n",
       "  \n",
       "    var force = false;\n",
       "  \n",
       "    if (typeof (window._bokeh_onload_callbacks) === \"undefined\" || force === true) {\n",
       "      window._bokeh_onload_callbacks = [];\n",
       "      window._bokeh_is_loading = undefined;\n",
       "    }\n",
       "  \n",
       "  \n",
       "    \n",
       "    if (typeof (window._bokeh_timeout) === \"undefined\" || force === true) {\n",
       "      window._bokeh_timeout = Date.now() + 0;\n",
       "      window._bokeh_failed_load = false;\n",
       "    }\n",
       "  \n",
       "    var NB_LOAD_WARNING = {'data': {'text/html':\n",
       "       \"<div style='background-color: #fdd'>\\n\"+\n",
       "       \"<p>\\n\"+\n",
       "       \"BokehJS does not appear to have successfully loaded. If loading BokehJS from CDN, this \\n\"+\n",
       "       \"may be due to a slow or bad network connection. Possible fixes:\\n\"+\n",
       "       \"</p>\\n\"+\n",
       "       \"<ul>\\n\"+\n",
       "       \"<li>re-rerun `output_notebook()` to attempt to load from CDN again, or</li>\\n\"+\n",
       "       \"<li>use INLINE resources instead, as so:</li>\\n\"+\n",
       "       \"</ul>\\n\"+\n",
       "       \"<code>\\n\"+\n",
       "       \"from bokeh.resources import INLINE\\n\"+\n",
       "       \"output_notebook(resources=INLINE)\\n\"+\n",
       "       \"</code>\\n\"+\n",
       "       \"</div>\"}};\n",
       "  \n",
       "    function display_loaded() {\n",
       "      if (window.Bokeh !== undefined) {\n",
       "        document.getElementById(\"f701aeb7-8635-4db1-9836-0a317386bd09\").textContent = \"BokehJS successfully loaded.\";\n",
       "      } else if (Date.now() < window._bokeh_timeout) {\n",
       "        setTimeout(display_loaded, 100)\n",
       "      }\n",
       "    }\n",
       "  \n",
       "    function run_callbacks() {\n",
       "      window._bokeh_onload_callbacks.forEach(function(callback) { callback() });\n",
       "      delete window._bokeh_onload_callbacks\n",
       "      console.info(\"Bokeh: all callbacks have finished\");\n",
       "    }\n",
       "  \n",
       "    function load_libs(js_urls, callback) {\n",
       "      window._bokeh_onload_callbacks.push(callback);\n",
       "      if (window._bokeh_is_loading > 0) {\n",
       "        console.log(\"Bokeh: BokehJS is being loaded, scheduling callback at\", now());\n",
       "        return null;\n",
       "      }\n",
       "      if (js_urls == null || js_urls.length === 0) {\n",
       "        run_callbacks();\n",
       "        return null;\n",
       "      }\n",
       "      console.log(\"Bokeh: BokehJS not loaded, scheduling load and callback at\", now());\n",
       "      window._bokeh_is_loading = js_urls.length;\n",
       "      for (var i = 0; i < js_urls.length; i++) {\n",
       "        var url = js_urls[i];\n",
       "        var s = document.createElement('script');\n",
       "        s.src = url;\n",
       "        s.async = false;\n",
       "        s.onreadystatechange = s.onload = function() {\n",
       "          window._bokeh_is_loading--;\n",
       "          if (window._bokeh_is_loading === 0) {\n",
       "            console.log(\"Bokeh: all BokehJS libraries loaded\");\n",
       "            run_callbacks()\n",
       "          }\n",
       "        };\n",
       "        s.onerror = function() {\n",
       "          console.warn(\"failed to load library \" + url);\n",
       "        };\n",
       "        console.log(\"Bokeh: injecting script tag for BokehJS library: \", url);\n",
       "        document.getElementsByTagName(\"head\")[0].appendChild(s);\n",
       "      }\n",
       "    };var element = document.getElementById(\"f701aeb7-8635-4db1-9836-0a317386bd09\");\n",
       "    if (element == null) {\n",
       "      console.log(\"Bokeh: ERROR: autoload.js configured with elementid 'f701aeb7-8635-4db1-9836-0a317386bd09' but no matching script tag was found. \")\n",
       "      return false;\n",
       "    }\n",
       "  \n",
       "    var js_urls = [];\n",
       "  \n",
       "    var inline_js = [\n",
       "      function(Bokeh) {\n",
       "        (function() {\n",
       "          var fn = function() {\n",
       "            var docs_json = {\"534bee0a-06b8-4452-819f-41200cdb4c1d\":{\"roots\":{\"references\":[{\"attributes\":{\"callback\":null,\"column_names\":[\"x\",\"y\",\"width\",\"height\",\"color\",\"fill_alpha\",\"line_color\",\"line_alpha\",\"label\"],\"data\":{\"chart_index\":[{\"proportion\":\"charged\",\"species\":\"Helarctos malayanus\"}],\"color\":[\"aqua\"],\"fill_alpha\":[0.8],\"height\":[0.09234828496042216],\"label\":[{\"proportion\":\"charged\",\"species\":\"Helarctos malayanus\"}],\"line_alpha\":[1.0],\"line_color\":[\"white\"],\"proportion\":[\"charged\"],\"species\":[\"Helarctos malayanus\"],\"width\":[0.8],\"x\":[\"Helarctos malayanus\"],\"y\":[0.04617414248021108]}},\"id\":\"6fa68d7f-3367-4fc1-8246-840ad996b1ab\",\"type\":\"ColumnDataSource\"},{\"attributes\":{\"callback\":null,\"column_names\":[\"x\",\"y\",\"width\",\"height\",\"color\",\"fill_alpha\",\"line_color\",\"line_alpha\",\"label\"],\"data\":{\"chart_index\":[{\"proportion\":\"charged\",\"species\":\"Tremarctos ornatus\"}],\"color\":[\"aqua\"],\"fill_alpha\":[0.8],\"height\":[0.08970976253298153],\"label\":[{\"proportion\":\"charged\",\"species\":\"Tremarctos ornatus\"}],\"line_alpha\":[1.0],\"line_color\":[\"white\"],\"proportion\":[\"charged\"],\"species\":[\"Tremarctos ornatus\"],\"width\":[0.8],\"x\":[\"Tremarctos ornatus\"],\"y\":[0.044854881266490766]}},\"id\":\"ff0970b9-b7c7-4a03-942d-475f0579ab39\",\"type\":\"ColumnDataSource\"},{\"attributes\":{\"data_source\":{\"id\":\"ccc6d11d-1b7f-4621-b01d-d9610a77b3f8\",\"type\":\"ColumnDataSource\"},\"glyph\":{\"id\":\"c142e4b4-ae96-41fe-9f9f-ddca2c529601\",\"type\":\"Rect\"},\"hover_glyph\":null,\"nonselection_glyph\":null,\"selection_glyph\":null},\"id\":\"022bfa02-666b-43a7-b10c-46be03f08d4e\",\"type\":\"GlyphRenderer\"},{\"attributes\":{\"callback\":null,\"column_names\":[\"x\",\"y\",\"width\",\"height\",\"color\",\"fill_alpha\",\"line_color\",\"line_alpha\",\"label\"],\"data\":{\"chart_index\":[{\"proportion\":\"polar\",\"species\":\"Ursus thibetanus\"}],\"color\":[\"chartreuse\"],\"fill_alpha\":[0.8],\"height\":[0.32717678100263853],\"label\":[{\"proportion\":\"polar\",\"species\":\"Ursus thibetanus\"}],\"line_alpha\":[1.0],\"line_color\":[\"white\"],\"proportion\":[\"polar\"],\"species\":[\"Ursus thibetanus\"],\"width\":[0.8],\"x\":[\"Ursus thibetanus\"],\"y\":[0.2559366754617414]}},\"id\":\"08b96d98-be35-4674-afaa-cae3adf48715\",\"type\":\"ColumnDataSource\"},{\"attributes\":{\"fill_alpha\":{\"field\":\"fill_alpha\"},\"fill_color\":{\"field\":\"color\"},\"height\":{\"field\":\"height\",\"units\":\"data\"},\"line_color\":{\"field\":\"line_color\"},\"width\":{\"field\":\"width\",\"units\":\"data\"},\"x\":{\"field\":\"x\"},\"y\":{\"field\":\"y\"}},\"id\":\"d2a52085-4e8f-4612-b310-f9b209d1f5bb\",\"type\":\"Rect\"},{\"attributes\":{\"callback\":null,\"column_names\":[\"x\",\"y\",\"width\",\"height\",\"color\",\"fill_alpha\",\"line_color\",\"line_alpha\",\"label\"],\"data\":{\"chart_index\":[{\"proportion\":\"hydrophobic\",\"species\":\"Ursus maritimus\"}],\"color\":[\"deeppink\"],\"fill_alpha\":[0.8],\"height\":[0.5804749340369393],\"label\":[{\"proportion\":\"hydrophobic\",\"species\":\"Ursus maritimus\"}],\"line_alpha\":[1.0],\"line_color\":[\"white\"],\"proportion\":[\"hydrophobic\"],\"species\":[\"Ursus maritimus\"],\"width\":[0.8],\"x\":[\"Ursus maritimus\"],\"y\":[0.7097625329815304]}},\"id\":\"8fa1e803-52fb-4080-b76c-be28e5682a0c\",\"type\":\"ColumnDataSource\"},{\"attributes\":{},\"id\":\"872a6c4d-88da-4a14-ac64-01019a00e05c\",\"type\":\"BasicTicker\"},{\"attributes\":{\"callback\":null,\"column_names\":[\"x\",\"y\",\"width\",\"height\",\"color\",\"fill_alpha\",\"line_color\",\"line_alpha\",\"label\"],\"data\":{\"chart_index\":[{\"proportion\":\"charged\",\"species\":\"Ailuropoda melanoleuca\"}],\"color\":[\"aqua\"],\"fill_alpha\":[0.8],\"height\":[0.08970976253298153],\"label\":[{\"proportion\":\"charged\",\"species\":\"Ailuropoda melanoleuca\"}],\"line_alpha\":[1.0],\"line_color\":[\"white\"],\"proportion\":[\"charged\"],\"species\":[\"Ailuropoda melanoleuca\"],\"width\":[0.8],\"x\":[\"Ailuropoda melanoleuca\"],\"y\":[0.044854881266490766]}},\"id\":\"627a1105-cef5-45d2-b4c3-f002e124ce99\",\"type\":\"ColumnDataSource\"},{\"attributes\":{\"data_source\":{\"id\":\"6fa68d7f-3367-4fc1-8246-840ad996b1ab\",\"type\":\"ColumnDataSource\"},\"glyph\":{\"id\":\"8017f302-22ef-4481-afa8-0733240537e5\",\"type\":\"Rect\"},\"hover_glyph\":null,\"nonselection_glyph\":null,\"selection_glyph\":null},\"id\":\"5e86bb0a-88cd-40ae-986a-9e7ea96894e0\",\"type\":\"GlyphRenderer\"},{\"attributes\":{\"fill_alpha\":{\"field\":\"fill_alpha\"},\"fill_color\":{\"field\":\"color\"},\"height\":{\"field\":\"height\",\"units\":\"data\"},\"line_color\":{\"field\":\"line_color\"},\"width\":{\"field\":\"width\",\"units\":\"data\"},\"x\":{\"field\":\"x\"},\"y\":{\"field\":\"y\"}},\"id\":\"21f4ca95-4804-49ad-b9ce-b8dccc399f4f\",\"type\":\"Rect\"},{\"attributes\":{\"data_source\":{\"id\":\"275b4d23-4297-4751-b8d9-75a7ff3fac17\",\"type\":\"ColumnDataSource\"},\"glyph\":{\"id\":\"21f4ca95-4804-49ad-b9ce-b8dccc399f4f\",\"type\":\"Rect\"},\"hover_glyph\":null,\"nonselection_glyph\":null,\"selection_glyph\":null},\"id\":\"70616a2c-3c46-4903-943b-a701a509ed66\",\"type\":\"GlyphRenderer\"},{\"attributes\":{\"data_source\":{\"id\":\"627a1105-cef5-45d2-b4c3-f002e124ce99\",\"type\":\"ColumnDataSource\"},\"glyph\":{\"id\":\"d2a52085-4e8f-4612-b310-f9b209d1f5bb\",\"type\":\"Rect\"},\"hover_glyph\":null,\"nonselection_glyph\":null,\"selection_glyph\":null},\"id\":\"22f25f7a-ee76-4a02-9a3c-dababd6c2c7a\",\"type\":\"GlyphRenderer\"},{\"attributes\":{\"fill_alpha\":{\"field\":\"fill_alpha\"},\"fill_color\":{\"field\":\"color\"},\"height\":{\"field\":\"height\",\"units\":\"data\"},\"line_color\":{\"field\":\"line_color\"},\"width\":{\"field\":\"width\",\"units\":\"data\"},\"x\":{\"field\":\"x\"},\"y\":{\"field\":\"y\"}},\"id\":\"f7d80874-75d7-4e4e-8b33-0ba5b29ab64c\",\"type\":\"Rect\"},{\"attributes\":{\"fill_alpha\":{\"field\":\"fill_alpha\"},\"fill_color\":{\"field\":\"color\"},\"height\":{\"field\":\"height\",\"units\":\"data\"},\"line_color\":{\"field\":\"line_color\"},\"width\":{\"field\":\"width\",\"units\":\"data\"},\"x\":{\"field\":\"x\"},\"y\":{\"field\":\"y\"}},\"id\":\"c51d409d-078f-4267-928d-338474820f20\",\"type\":\"Rect\"},{\"attributes\":{\"callback\":null,\"column_names\":[\"x\",\"y\",\"width\",\"height\",\"color\",\"fill_alpha\",\"line_color\",\"line_alpha\",\"label\"],\"data\":{\"chart_index\":[{\"proportion\":\"polar\",\"species\":\"Ursus maritimus\"}],\"color\":[\"chartreuse\"],\"fill_alpha\":[0.8],\"height\":[0.32717678100263853],\"label\":[{\"proportion\":\"polar\",\"species\":\"Ursus maritimus\"}],\"line_alpha\":[1.0],\"line_color\":[\"white\"],\"proportion\":[\"polar\"],\"species\":[\"Ursus maritimus\"],\"width\":[0.8],\"x\":[\"Ursus maritimus\"],\"y\":[0.2559366754617414]}},\"id\":\"2ccaca45-33d9-44c6-9b09-51520633bfac\",\"type\":\"ColumnDataSource\"},{\"attributes\":{\"data_source\":{\"id\":\"0b5707d7-5c15-4711-b8e3-7aff112566d1\",\"type\":\"ColumnDataSource\"},\"glyph\":{\"id\":\"f7d80874-75d7-4e4e-8b33-0ba5b29ab64c\",\"type\":\"Rect\"},\"hover_glyph\":null,\"nonselection_glyph\":null,\"selection_glyph\":null},\"id\":\"5836e4be-e3e5-449e-a59a-39b35cc41c94\",\"type\":\"GlyphRenderer\"},{\"attributes\":{\"data_source\":{\"id\":\"ff0970b9-b7c7-4a03-942d-475f0579ab39\",\"type\":\"ColumnDataSource\"},\"glyph\":{\"id\":\"c51d409d-078f-4267-928d-338474820f20\",\"type\":\"Rect\"},\"hover_glyph\":null,\"nonselection_glyph\":null,\"selection_glyph\":null},\"id\":\"2114d9aa-81d2-4a48-a962-1a6f1b32b799\",\"type\":\"GlyphRenderer\"},{\"attributes\":{\"fill_alpha\":{\"field\":\"fill_alpha\"},\"fill_color\":{\"field\":\"color\"},\"height\":{\"field\":\"height\",\"units\":\"data\"},\"line_color\":{\"field\":\"line_color\"},\"width\":{\"field\":\"width\",\"units\":\"data\"},\"x\":{\"field\":\"x\"},\"y\":{\"field\":\"y\"}},\"id\":\"70a32387-56c8-4cc3-8972-79b5b717265d\",\"type\":\"Rect\"},{\"attributes\":{\"callback\":null,\"column_names\":[\"x\",\"y\",\"width\",\"height\",\"color\",\"fill_alpha\",\"line_color\",\"line_alpha\",\"label\"],\"data\":{\"chart_index\":[{\"proportion\":\"hydrophobic\",\"species\":\"Tremarctos ornatus\"}],\"color\":[\"deeppink\"],\"fill_alpha\":[0.8],\"height\":[0.575197889182058],\"label\":[{\"proportion\":\"hydrophobic\",\"species\":\"Tremarctos ornatus\"}],\"line_alpha\":[1.0],\"line_color\":[\"white\"],\"proportion\":[\"hydrophobic\"],\"species\":[\"Tremarctos ornatus\"],\"width\":[0.8],\"x\":[\"Tremarctos ornatus\"],\"y\":[0.712401055408971]}},\"id\":\"f6d9b71e-2f7c-4ba8-8feb-3ecc4ada9daf\",\"type\":\"ColumnDataSource\"},{\"attributes\":{\"callback\":null,\"column_names\":[\"x\",\"y\",\"width\",\"height\",\"color\",\"fill_alpha\",\"line_color\",\"line_alpha\",\"label\"],\"data\":{\"chart_index\":[{\"proportion\":\"polar\",\"species\":\"Tremarctos ornatus\"}],\"color\":[\"chartreuse\"],\"fill_alpha\":[0.8],\"height\":[0.33509234828496043],\"label\":[{\"proportion\":\"polar\",\"species\":\"Tremarctos ornatus\"}],\"line_alpha\":[1.0],\"line_color\":[\"white\"],\"proportion\":[\"polar\"],\"species\":[\"Tremarctos ornatus\"],\"width\":[0.8],\"x\":[\"Tremarctos ornatus\"],\"y\":[0.25725593667546176]}},\"id\":\"4b762142-a669-4e02-97e9-5a791f522711\",\"type\":\"ColumnDataSource\"},{\"attributes\":{\"fill_alpha\":{\"field\":\"fill_alpha\"},\"fill_color\":{\"field\":\"color\"},\"height\":{\"field\":\"height\",\"units\":\"data\"},\"line_color\":{\"field\":\"line_color\"},\"width\":{\"field\":\"width\",\"units\":\"data\"},\"x\":{\"field\":\"x\"},\"y\":{\"field\":\"y\"}},\"id\":\"af185bcc-2517-4895-9eec-91044516f930\",\"type\":\"Rect\"},{\"attributes\":{\"data_source\":{\"id\":\"8b647560-fa85-49fc-94ab-ec6048210229\",\"type\":\"ColumnDataSource\"},\"glyph\":{\"id\":\"658fc079-3b9c-435d-b672-657fed2cd034\",\"type\":\"Rect\"},\"hover_glyph\":null,\"nonselection_glyph\":null,\"selection_glyph\":null},\"id\":\"3d2e3a40-999e-4b81-8ed3-8302100b2257\",\"type\":\"GlyphRenderer\"},{\"attributes\":{\"label\":{\"value\":\"hydrophobic\"},\"renderers\":[{\"id\":\"d09da07c-5875-44f0-8023-b204c94def82\",\"type\":\"GlyphRenderer\"}]},\"id\":\"7163373a-3ff3-43e3-95bb-f791a92bfca9\",\"type\":\"LegendItem\"},{\"attributes\":{\"data_source\":{\"id\":\"f6d9b71e-2f7c-4ba8-8feb-3ecc4ada9daf\",\"type\":\"ColumnDataSource\"},\"glyph\":{\"id\":\"70a32387-56c8-4cc3-8972-79b5b717265d\",\"type\":\"Rect\"},\"hover_glyph\":null,\"nonselection_glyph\":null,\"selection_glyph\":null},\"id\":\"9cb67651-572d-45a3-9b9f-c8f9cf20545f\",\"type\":\"GlyphRenderer\"},{\"attributes\":{\"axis_label\":\"Species\",\"formatter\":{\"id\":\"a9d6fd68-84be-4bb0-8260-d6531f4deaf7\",\"type\":\"CategoricalTickFormatter\"},\"major_label_orientation\":0.7853981633974483,\"plot\":{\"id\":\"b13a5505-17cd-433a-b7e0-abf8a9af624c\",\"subtype\":\"Chart\",\"type\":\"Plot\"},\"ticker\":{\"id\":\"7367c8f1-faaa-46a5-a778-789b573ce77c\",\"type\":\"CategoricalTicker\"}},\"id\":\"a0a0360d-acd0-45ac-9efa-5be2abd3f449\",\"type\":\"CategoricalAxis\"},{\"attributes\":{\"data_source\":{\"id\":\"06f9b6f5-8e01-4c4c-a920-75d9edee0251\",\"type\":\"ColumnDataSource\"},\"glyph\":{\"id\":\"af185bcc-2517-4895-9eec-91044516f930\",\"type\":\"Rect\"},\"hover_glyph\":null,\"nonselection_glyph\":null,\"selection_glyph\":null},\"id\":\"b108ae06-ae97-4072-9f61-eefc5e625667\",\"type\":\"GlyphRenderer\"},{\"attributes\":{\"fill_alpha\":{\"field\":\"fill_alpha\"},\"fill_color\":{\"field\":\"color\"},\"height\":{\"field\":\"height\",\"units\":\"data\"},\"line_color\":{\"field\":\"line_color\"},\"width\":{\"field\":\"width\",\"units\":\"data\"},\"x\":{\"field\":\"x\"},\"y\":{\"field\":\"y\"}},\"id\":\"01860050-588b-4434-971b-146fb4a16dc2\",\"type\":\"Rect\"},{\"attributes\":{\"callback\":null,\"column_names\":[\"x\",\"y\",\"width\",\"height\",\"color\",\"fill_alpha\",\"line_color\",\"line_alpha\",\"label\"],\"data\":{\"chart_index\":[{\"proportion\":\"hydrophobic\",\"species\":\"Ailuropoda melanoleuca\"}],\"color\":[\"deeppink\"],\"fill_alpha\":[0.8],\"height\":[0.5672823218997362],\"label\":[{\"proportion\":\"hydrophobic\",\"species\":\"Ailuropoda melanoleuca\"}],\"line_alpha\":[1.0],\"line_color\":[\"white\"],\"proportion\":[\"hydrophobic\"],\"species\":[\"Ailuropoda melanoleuca\"],\"width\":[0.8],\"x\":[\"Ailuropoda melanoleuca\"],\"y\":[0.7163588390501319]}},\"id\":\"0b5707d7-5c15-4711-b8e3-7aff112566d1\",\"type\":\"ColumnDataSource\"},{\"attributes\":{\"fill_alpha\":{\"field\":\"fill_alpha\"},\"fill_color\":{\"field\":\"color\"},\"height\":{\"field\":\"height\",\"units\":\"data\"},\"line_color\":{\"field\":\"line_color\"},\"width\":{\"field\":\"width\",\"units\":\"data\"},\"x\":{\"field\":\"x\"},\"y\":{\"field\":\"y\"}},\"id\":\"32029cac-96e8-429c-a48d-582e0feee8c5\",\"type\":\"Rect\"},{\"attributes\":{\"callback\":null,\"column_names\":[\"x\",\"y\",\"width\",\"height\",\"color\",\"fill_alpha\",\"line_color\",\"line_alpha\",\"label\"],\"data\":{\"chart_index\":[{\"proportion\":\"hydrophobic\",\"species\":\"Ursus thibetanus\"}],\"color\":[\"deeppink\"],\"fill_alpha\":[0.8],\"height\":[0.5804749340369393],\"label\":[{\"proportion\":\"hydrophobic\",\"species\":\"Ursus thibetanus\"}],\"line_alpha\":[1.0],\"line_color\":[\"white\"],\"proportion\":[\"hydrophobic\"],\"species\":[\"Ursus thibetanus\"],\"width\":[0.8],\"x\":[\"Ursus thibetanus\"],\"y\":[0.7097625329815304]}},\"id\":\"246aedb5-4950-4158-b2bc-735d77a1206e\",\"type\":\"ColumnDataSource\"},{\"attributes\":{\"axis_label\":\"Sum( Proportions )\",\"formatter\":{\"id\":\"3a10cc7a-6a21-4c08-8e5a-a4b2a410caf5\",\"type\":\"BasicTickFormatter\"},\"plot\":{\"id\":\"b13a5505-17cd-433a-b7e0-abf8a9af624c\",\"subtype\":\"Chart\",\"type\":\"Plot\"},\"ticker\":{\"id\":\"872a6c4d-88da-4a14-ac64-01019a00e05c\",\"type\":\"BasicTicker\"}},\"id\":\"5d38e0d3-6233-4196-a89e-c0442c467801\",\"type\":\"LinearAxis\"},{\"attributes\":{\"data_source\":{\"id\":\"e3d14f6b-6251-4016-9db2-45ddafa1ba90\",\"type\":\"ColumnDataSource\"},\"glyph\":{\"id\":\"32029cac-96e8-429c-a48d-582e0feee8c5\",\"type\":\"Rect\"},\"hover_glyph\":null,\"nonselection_glyph\":null,\"selection_glyph\":null},\"id\":\"ffc0ba1c-b0b5-4aac-9898-376835e8dec7\",\"type\":\"GlyphRenderer\"},{\"attributes\":{\"data_source\":{\"id\":\"8fa1e803-52fb-4080-b76c-be28e5682a0c\",\"type\":\"ColumnDataSource\"},\"glyph\":{\"id\":\"01860050-588b-4434-971b-146fb4a16dc2\",\"type\":\"Rect\"},\"hover_glyph\":null,\"nonselection_glyph\":null,\"selection_glyph\":null},\"id\":\"0ac54126-8a49-4349-abcd-fb9970cce730\",\"type\":\"GlyphRenderer\"},{\"attributes\":{\"dimension\":1,\"plot\":{\"id\":\"b13a5505-17cd-433a-b7e0-abf8a9af624c\",\"subtype\":\"Chart\",\"type\":\"Plot\"},\"ticker\":{\"id\":\"872a6c4d-88da-4a14-ac64-01019a00e05c\",\"type\":\"BasicTicker\"}},\"id\":\"d319d122-0f07-4d69-af96-6a80def29bee\",\"type\":\"Grid\"},{\"attributes\":{\"fill_alpha\":{\"field\":\"fill_alpha\"},\"fill_color\":{\"field\":\"color\"},\"height\":{\"field\":\"height\",\"units\":\"data\"},\"line_color\":{\"field\":\"line_color\"},\"width\":{\"field\":\"width\",\"units\":\"data\"},\"x\":{\"field\":\"x\"},\"y\":{\"field\":\"y\"}},\"id\":\"597c29e6-7f29-4e70-a888-bb95d04e5cd0\",\"type\":\"Rect\"},{\"attributes\":{\"callback\":null,\"column_names\":[\"x\",\"y\",\"width\",\"height\",\"color\",\"fill_alpha\",\"line_color\",\"line_alpha\",\"label\"],\"data\":{\"chart_index\":[{\"proportion\":\"polar\",\"species\":\"Ailuropoda melanoleuca\"}],\"color\":[\"chartreuse\"],\"fill_alpha\":[0.8],\"height\":[0.34300791556728233],\"label\":[{\"proportion\":\"polar\",\"species\":\"Ailuropoda melanoleuca\"}],\"line_alpha\":[1.0],\"line_color\":[\"white\"],\"proportion\":[\"polar\"],\"species\":[\"Ailuropoda melanoleuca\"],\"width\":[0.8],\"x\":[\"Ailuropoda melanoleuca\"],\"y\":[0.2612137203166227]}},\"id\":\"f7203894-0c87-48cf-b6a6-812825b09e8f\",\"type\":\"ColumnDataSource\"},{\"attributes\":{\"fill_alpha\":{\"field\":\"fill_alpha\"},\"fill_color\":{\"field\":\"color\"},\"height\":{\"field\":\"height\",\"units\":\"data\"},\"line_color\":{\"field\":\"line_color\"},\"width\":{\"field\":\"width\",\"units\":\"data\"},\"x\":{\"field\":\"x\"},\"y\":{\"field\":\"y\"}},\"id\":\"c142e4b4-ae96-41fe-9f9f-ddca2c529601\",\"type\":\"Rect\"},{\"attributes\":{\"callback\":null,\"column_names\":[\"x\",\"y\",\"width\",\"height\",\"color\",\"fill_alpha\",\"line_color\",\"line_alpha\",\"label\"],\"data\":{\"chart_index\":[{\"proportion\":\"hydrophobic\",\"species\":\"Ursus arctos\"}],\"color\":[\"deeppink\"],\"fill_alpha\":[0.8],\"height\":[0.58311345646438],\"label\":[{\"proportion\":\"hydrophobic\",\"species\":\"Ursus arctos\"}],\"line_alpha\":[1.0],\"line_color\":[\"white\"],\"proportion\":[\"hydrophobic\"],\"species\":[\"Ursus arctos\"],\"width\":[0.8],\"x\":[\"Ursus arctos\"],\"y\":[0.70844327176781]}},\"id\":\"c299d166-e238-4ddf-bc56-822a47d0ff0b\",\"type\":\"ColumnDataSource\"},{\"attributes\":{\"fill_alpha\":{\"field\":\"fill_alpha\"},\"fill_color\":{\"field\":\"color\"},\"height\":{\"field\":\"height\",\"units\":\"data\"},\"line_color\":{\"field\":\"line_color\"},\"width\":{\"field\":\"width\",\"units\":\"data\"},\"x\":{\"field\":\"x\"},\"y\":{\"field\":\"y\"}},\"id\":\"ea6a2370-1380-4847-867d-dfed5e49c32a\",\"type\":\"Rect\"},{\"attributes\":{},\"id\":\"7367c8f1-faaa-46a5-a778-789b573ce77c\",\"type\":\"CategoricalTicker\"},{\"attributes\":{\"data_source\":{\"id\":\"08b96d98-be35-4674-afaa-cae3adf48715\",\"type\":\"ColumnDataSource\"},\"glyph\":{\"id\":\"597c29e6-7f29-4e70-a888-bb95d04e5cd0\",\"type\":\"Rect\"},\"hover_glyph\":null,\"nonselection_glyph\":null,\"selection_glyph\":null},\"id\":\"07562dc7-0897-4ae9-9e05-9d9070ae28d0\",\"type\":\"GlyphRenderer\"},{\"attributes\":{\"fill_alpha\":{\"field\":\"fill_alpha\"},\"fill_color\":{\"field\":\"color\"},\"height\":{\"field\":\"height\",\"units\":\"data\"},\"line_color\":{\"field\":\"line_color\"},\"width\":{\"field\":\"width\",\"units\":\"data\"},\"x\":{\"field\":\"x\"},\"y\":{\"field\":\"y\"}},\"id\":\"658fc079-3b9c-435d-b672-657fed2cd034\",\"type\":\"Rect\"},{\"attributes\":{\"plot\":{\"id\":\"b13a5505-17cd-433a-b7e0-abf8a9af624c\",\"subtype\":\"Chart\",\"type\":\"Plot\"}},\"id\":\"c77958bc-fd32-4622-a456-18b009b95d75\",\"type\":\"PanTool\"},{\"attributes\":{\"bottom_units\":\"screen\",\"fill_alpha\":{\"value\":0.5},\"fill_color\":{\"value\":\"lightgrey\"},\"left_units\":\"screen\",\"level\":\"overlay\",\"line_alpha\":{\"value\":1.0},\"line_color\":{\"value\":\"black\"},\"line_dash\":[4,4],\"line_width\":{\"value\":2},\"plot\":null,\"render_mode\":\"css\",\"right_units\":\"screen\",\"top_units\":\"screen\"},\"id\":\"7f7fa65c-a5bc-405c-92dc-e7a8b7fcdc95\",\"type\":\"BoxAnnotation\"},{\"attributes\":{\"fill_alpha\":{\"field\":\"fill_alpha\"},\"fill_color\":{\"field\":\"color\"},\"height\":{\"field\":\"height\",\"units\":\"data\"},\"line_color\":{\"field\":\"line_color\"},\"width\":{\"field\":\"width\",\"units\":\"data\"},\"x\":{\"field\":\"x\"},\"y\":{\"field\":\"y\"}},\"id\":\"99dc9ba7-36f9-4f7d-80e2-20ed72017f26\",\"type\":\"Rect\"},{\"attributes\":{\"plot\":{\"id\":\"b13a5505-17cd-433a-b7e0-abf8a9af624c\",\"subtype\":\"Chart\",\"type\":\"Plot\"}},\"id\":\"7f5c8960-ad00-49ce-b9f1-18fb993bdc85\",\"type\":\"WheelZoomTool\"},{\"attributes\":{\"overlay\":{\"id\":\"7f7fa65c-a5bc-405c-92dc-e7a8b7fcdc95\",\"type\":\"BoxAnnotation\"},\"plot\":{\"id\":\"b13a5505-17cd-433a-b7e0-abf8a9af624c\",\"subtype\":\"Chart\",\"type\":\"Plot\"}},\"id\":\"db4494c7-67df-44b6-895a-53868266631f\",\"type\":\"BoxZoomTool\"},{\"attributes\":{\"data_source\":{\"id\":\"4b762142-a669-4e02-97e9-5a791f522711\",\"type\":\"ColumnDataSource\"},\"glyph\":{\"id\":\"ea6a2370-1380-4847-867d-dfed5e49c32a\",\"type\":\"Rect\"},\"hover_glyph\":null,\"nonselection_glyph\":null,\"selection_glyph\":null},\"id\":\"11c59d04-9692-452e-a039-4daa2eddf040\",\"type\":\"GlyphRenderer\"},{\"attributes\":{\"plot\":{\"id\":\"b13a5505-17cd-433a-b7e0-abf8a9af624c\",\"subtype\":\"Chart\",\"type\":\"Plot\"}},\"id\":\"4e0386a0-3f41-4b25-97c2-dcc841a502f6\",\"type\":\"SaveTool\"},{\"attributes\":{\"plot\":{\"id\":\"b13a5505-17cd-433a-b7e0-abf8a9af624c\",\"subtype\":\"Chart\",\"type\":\"Plot\"}},\"id\":\"349736eb-e675-47b8-a007-6373ddae1efd\",\"type\":\"ResetTool\"},{\"attributes\":{\"plot\":{\"id\":\"b13a5505-17cd-433a-b7e0-abf8a9af624c\",\"subtype\":\"Chart\",\"type\":\"Plot\"}},\"id\":\"647998d9-54c6-44f1-86c1-94204a03aa86\",\"type\":\"HelpTool\"},{\"attributes\":{\"callback\":null,\"column_names\":[\"x\",\"y\",\"width\",\"height\",\"color\",\"fill_alpha\",\"line_color\",\"line_alpha\",\"label\"],\"data\":{\"chart_index\":[{\"proportion\":\"polar\",\"species\":\"Ursus americanus\"}],\"color\":[\"chartreuse\"],\"fill_alpha\":[0.8],\"height\":[0.33773087071240104],\"label\":[{\"proportion\":\"polar\",\"species\":\"Ursus americanus\"}],\"line_alpha\":[1.0],\"line_color\":[\"white\"],\"proportion\":[\"polar\"],\"species\":[\"Ursus americanus\"],\"width\":[0.8],\"x\":[\"Ursus americanus\"],\"y\":[0.25857519788918204]}},\"id\":\"6f41f98f-aba6-4a33-b98f-daaaf0b955af\",\"type\":\"ColumnDataSource\"},{\"attributes\":{\"data_source\":{\"id\":\"6f41f98f-aba6-4a33-b98f-daaaf0b955af\",\"type\":\"ColumnDataSource\"},\"glyph\":{\"id\":\"99dc9ba7-36f9-4f7d-80e2-20ed72017f26\",\"type\":\"Rect\"},\"hover_glyph\":null,\"nonselection_glyph\":null,\"selection_glyph\":null},\"id\":\"27f25973-f8c3-4e62-8300-f754f07a17a8\",\"type\":\"GlyphRenderer\"},{\"attributes\":{\"callback\":null,\"column_names\":[\"x\",\"y\",\"width\",\"height\",\"color\",\"fill_alpha\",\"line_color\",\"line_alpha\",\"label\"],\"data\":{\"chart_index\":[{\"proportion\":\"hydrophobic\",\"species\":\"Ursus spelaeus\"}],\"color\":[\"deeppink\"],\"fill_alpha\":[0.8],\"height\":[0.5778364116094987],\"label\":[{\"proportion\":\"hydrophobic\",\"species\":\"Ursus spelaeus\"}],\"line_alpha\":[1.0],\"line_color\":[\"white\"],\"proportion\":[\"hydrophobic\"],\"species\":[\"Ursus spelaeus\"],\"width\":[0.8],\"x\":[\"Ursus spelaeus\"],\"y\":[0.7110817941952506]}},\"id\":\"6704c707-8371-4655-8716-369f1325a122\",\"type\":\"ColumnDataSource\"},{\"attributes\":{\"callback\":null,\"column_names\":[\"x\",\"y\",\"width\",\"height\",\"color\",\"fill_alpha\",\"line_color\",\"line_alpha\",\"label\"],\"data\":{\"chart_index\":[{\"proportion\":\"polar\",\"species\":\"Ursus arctos\"}],\"color\":[\"chartreuse\"],\"fill_alpha\":[0.8],\"height\":[0.3245382585751979],\"label\":[{\"proportion\":\"polar\",\"species\":\"Ursus arctos\"}],\"line_alpha\":[1.0],\"line_color\":[\"white\"],\"proportion\":[\"polar\"],\"species\":[\"Ursus arctos\"],\"width\":[0.8],\"x\":[\"Ursus arctos\"],\"y\":[0.2546174142480211]}},\"id\":\"e3d14f6b-6251-4016-9db2-45ddafa1ba90\",\"type\":\"ColumnDataSource\"},{\"attributes\":{\"callback\":null,\"column_names\":[\"x\",\"y\",\"width\",\"height\",\"color\",\"fill_alpha\",\"line_color\",\"line_alpha\",\"label\"],\"data\":{\"chart_index\":[{\"proportion\":\"hydrophobic\",\"species\":\"Helarctos malayanus\"}],\"color\":[\"deeppink\"],\"fill_alpha\":[0.8],\"height\":[0.5672823218997362],\"label\":[{\"proportion\":\"hydrophobic\",\"species\":\"Helarctos malayanus\"}],\"line_alpha\":[1.0],\"line_color\":[\"white\"],\"proportion\":[\"hydrophobic\"],\"species\":[\"Helarctos malayanus\"],\"width\":[0.8],\"x\":[\"Helarctos malayanus\"],\"y\":[0.7163588390501319]}},\"id\":\"275b4d23-4297-4751-b8d9-75a7ff3fac17\",\"type\":\"ColumnDataSource\"},{\"attributes\":{\"fill_alpha\":{\"field\":\"fill_alpha\"},\"fill_color\":{\"field\":\"color\"},\"height\":{\"field\":\"height\",\"units\":\"data\"},\"line_color\":{\"field\":\"line_color\"},\"width\":{\"field\":\"width\",\"units\":\"data\"},\"x\":{\"field\":\"x\"},\"y\":{\"field\":\"y\"}},\"id\":\"15fd9efb-46e6-4a35-b557-e9c18f022d3e\",\"type\":\"Rect\"},{\"attributes\":{\"callback\":null,\"column_names\":[\"x\",\"y\",\"width\",\"height\",\"color\",\"fill_alpha\",\"line_color\",\"line_alpha\",\"label\"],\"data\":{\"chart_index\":[{\"proportion\":\"charged\",\"species\":\"Ursus spelaeus\"}],\"color\":[\"aqua\"],\"fill_alpha\":[0.8],\"height\":[0.09234828496042216],\"label\":[{\"proportion\":\"charged\",\"species\":\"Ursus spelaeus\"}],\"line_alpha\":[1.0],\"line_color\":[\"white\"],\"proportion\":[\"charged\"],\"species\":[\"Ursus spelaeus\"],\"width\":[0.8],\"x\":[\"Ursus spelaeus\"],\"y\":[0.04617414248021108]}},\"id\":\"3282bd90-02b0-46bd-b676-e668fad73c8a\",\"type\":\"ColumnDataSource\"},{\"attributes\":{\"data_source\":{\"id\":\"8505a235-b906-48ca-8cc5-1b1fb90b1992\",\"type\":\"ColumnDataSource\"},\"glyph\":{\"id\":\"15fd9efb-46e6-4a35-b557-e9c18f022d3e\",\"type\":\"Rect\"},\"hover_glyph\":null,\"nonselection_glyph\":null,\"selection_glyph\":null},\"id\":\"0071209a-91de-4516-8d8a-2b8e61b41215\",\"type\":\"GlyphRenderer\"},{\"attributes\":{\"fill_alpha\":{\"field\":\"fill_alpha\"},\"fill_color\":{\"field\":\"color\"},\"height\":{\"field\":\"height\",\"units\":\"data\"},\"line_color\":{\"field\":\"line_color\"},\"width\":{\"field\":\"width\",\"units\":\"data\"},\"x\":{\"field\":\"x\"},\"y\":{\"field\":\"y\"}},\"id\":\"837180d1-25f5-4a85-be1d-57248a5b6907\",\"type\":\"Rect\"},{\"attributes\":{\"callback\":null,\"column_names\":[\"x\",\"y\",\"width\",\"height\",\"color\",\"fill_alpha\",\"line_color\",\"line_alpha\",\"label\"],\"data\":{\"chart_index\":[{\"proportion\":\"hydrophobic\",\"species\":\"Ursus americanus\"}],\"color\":[\"deeppink\"],\"fill_alpha\":[0.8],\"height\":[0.5725593667546174],\"label\":[{\"proportion\":\"hydrophobic\",\"species\":\"Ursus americanus\"}],\"line_alpha\":[1.0],\"line_color\":[\"white\"],\"proportion\":[\"hydrophobic\"],\"species\":[\"Ursus americanus\"],\"width\":[0.8],\"x\":[\"Ursus americanus\"],\"y\":[0.7137203166226913]}},\"id\":\"ccc6d11d-1b7f-4621-b01d-d9610a77b3f8\",\"type\":\"ColumnDataSource\"},{\"attributes\":{\"callback\":null,\"factors\":[\"Ursus spelaeus\",\"Ursus arctos\",\"Ursus thibetanus\",\"Melursus ursinus\",\"Ursus americanus\",\"Helarctos malayanus\",\"Ailuropoda melanoleuca\",\"Tremarctos ornatus\",\"Ursus maritimus\"]},\"id\":\"019f597e-6b71-4874-ae07-fa7997b95342\",\"type\":\"FactorRange\"},{\"attributes\":{\"callback\":null,\"column_names\":[\"x\",\"y\",\"width\",\"height\",\"color\",\"fill_alpha\",\"line_color\",\"line_alpha\",\"label\"],\"data\":{\"chart_index\":[{\"proportion\":\"charged\",\"species\":\"Ursus americanus\"}],\"color\":[\"aqua\"],\"fill_alpha\":[0.8],\"height\":[0.08970976253298153],\"label\":[{\"proportion\":\"charged\",\"species\":\"Ursus americanus\"}],\"line_alpha\":[1.0],\"line_color\":[\"white\"],\"proportion\":[\"charged\"],\"species\":[\"Ursus americanus\"],\"width\":[0.8],\"x\":[\"Ursus americanus\"],\"y\":[0.044854881266490766]}},\"id\":\"9ee2aba1-4162-4a56-bb39-33db4f1a74f8\",\"type\":\"ColumnDataSource\"},{\"attributes\":{},\"id\":\"3a10cc7a-6a21-4c08-8e5a-a4b2a410caf5\",\"type\":\"BasicTickFormatter\"},{\"attributes\":{\"fill_alpha\":{\"field\":\"fill_alpha\"},\"fill_color\":{\"field\":\"color\"},\"height\":{\"field\":\"height\",\"units\":\"data\"},\"line_color\":{\"field\":\"line_color\"},\"width\":{\"field\":\"width\",\"units\":\"data\"},\"x\":{\"field\":\"x\"},\"y\":{\"field\":\"y\"}},\"id\":\"f1a126a8-9d23-4c20-bd50-83b8d69ebf73\",\"type\":\"Rect\"},{\"attributes\":{\"fill_alpha\":{\"field\":\"fill_alpha\"},\"fill_color\":{\"field\":\"color\"},\"height\":{\"field\":\"height\",\"units\":\"data\"},\"line_color\":{\"field\":\"line_color\"},\"width\":{\"field\":\"width\",\"units\":\"data\"},\"x\":{\"field\":\"x\"},\"y\":{\"field\":\"y\"}},\"id\":\"189c76bf-3186-4b35-9d79-212b3277bd21\",\"type\":\"Rect\"},{\"attributes\":{\"callback\":null,\"column_names\":[\"x\",\"y\",\"width\",\"height\",\"color\",\"fill_alpha\",\"line_color\",\"line_alpha\",\"label\"],\"data\":{\"chart_index\":[{\"proportion\":\"charged\",\"species\":\"Ursus thibetanus\"}],\"color\":[\"aqua\"],\"fill_alpha\":[0.8],\"height\":[0.09234828496042216],\"label\":[{\"proportion\":\"charged\",\"species\":\"Ursus thibetanus\"}],\"line_alpha\":[1.0],\"line_color\":[\"white\"],\"proportion\":[\"charged\"],\"species\":[\"Ursus thibetanus\"],\"width\":[0.8],\"x\":[\"Ursus thibetanus\"],\"y\":[0.04617414248021108]}},\"id\":\"86d8f2aa-ff4f-44b9-8f4e-7b2f6a35ca23\",\"type\":\"ColumnDataSource\"},{\"attributes\":{\"data_source\":{\"id\":\"3282bd90-02b0-46bd-b676-e668fad73c8a\",\"type\":\"ColumnDataSource\"},\"glyph\":{\"id\":\"837180d1-25f5-4a85-be1d-57248a5b6907\",\"type\":\"Rect\"},\"hover_glyph\":null,\"nonselection_glyph\":null,\"selection_glyph\":null},\"id\":\"b640dd42-4058-45a2-9296-0bb7c5d6f2cd\",\"type\":\"GlyphRenderer\"},{\"attributes\":{},\"id\":\"a9d6fd68-84be-4bb0-8260-d6531f4deaf7\",\"type\":\"CategoricalTickFormatter\"},{\"attributes\":{\"callback\":null,\"column_names\":[\"x\",\"y\",\"width\",\"height\",\"color\",\"fill_alpha\",\"line_color\",\"line_alpha\",\"label\"],\"data\":{\"chart_index\":[{\"proportion\":\"charged\",\"species\":\"Melursus ursinus\"}],\"color\":[\"aqua\"],\"fill_alpha\":[0.8],\"height\":[0.08970976253298153],\"label\":[{\"proportion\":\"charged\",\"species\":\"Melursus ursinus\"}],\"line_alpha\":[1.0],\"line_color\":[\"white\"],\"proportion\":[\"charged\"],\"species\":[\"Melursus ursinus\"],\"width\":[0.8],\"x\":[\"Melursus ursinus\"],\"y\":[0.044854881266490766]}},\"id\":\"5f04c3bf-cb03-41e6-a8b0-52d21fef3570\",\"type\":\"ColumnDataSource\"},{\"attributes\":{\"data_source\":{\"id\":\"2ccaca45-33d9-44c6-9b09-51520633bfac\",\"type\":\"ColumnDataSource\"},\"glyph\":{\"id\":\"189c76bf-3186-4b35-9d79-212b3277bd21\",\"type\":\"Rect\"},\"hover_glyph\":null,\"nonselection_glyph\":null,\"selection_glyph\":null},\"id\":\"ddd9fcc5-3077-4d46-9c21-e7ef1be977e2\",\"type\":\"GlyphRenderer\"},{\"attributes\":{\"fill_alpha\":{\"field\":\"fill_alpha\"},\"fill_color\":{\"field\":\"color\"},\"height\":{\"field\":\"height\",\"units\":\"data\"},\"line_color\":{\"field\":\"line_color\"},\"width\":{\"field\":\"width\",\"units\":\"data\"},\"x\":{\"field\":\"x\"},\"y\":{\"field\":\"y\"}},\"id\":\"1417bf7b-a82b-435f-909a-bcfdf5ab2b14\",\"type\":\"Rect\"},{\"attributes\":{\"callback\":null,\"column_names\":[\"x\",\"y\",\"width\",\"height\",\"color\",\"fill_alpha\",\"line_color\",\"line_alpha\",\"label\"],\"data\":{\"chart_index\":[{\"proportion\":\"charged\",\"species\":\"Ursus maritimus\"}],\"color\":[\"aqua\"],\"fill_alpha\":[0.8],\"height\":[0.09234828496042216],\"label\":[{\"proportion\":\"charged\",\"species\":\"Ursus maritimus\"}],\"line_alpha\":[1.0],\"line_color\":[\"white\"],\"proportion\":[\"charged\"],\"species\":[\"Ursus maritimus\"],\"width\":[0.8],\"x\":[\"Ursus maritimus\"],\"y\":[0.04617414248021108]}},\"id\":\"69230e22-45df-43db-81d9-c441b42ab316\",\"type\":\"ColumnDataSource\"},{\"attributes\":{\"fill_alpha\":{\"field\":\"fill_alpha\"},\"fill_color\":{\"field\":\"color\"},\"height\":{\"field\":\"height\",\"units\":\"data\"},\"line_color\":{\"field\":\"line_color\"},\"width\":{\"field\":\"width\",\"units\":\"data\"},\"x\":{\"field\":\"x\"},\"y\":{\"field\":\"y\"}},\"id\":\"b03fff40-80ca-43a1-974f-4923c8afbbf3\",\"type\":\"Rect\"},{\"attributes\":{\"data_source\":{\"id\":\"71abab17-9ea5-4f41-a6e0-425ae8d9371b\",\"type\":\"ColumnDataSource\"},\"glyph\":{\"id\":\"4c8fd103-da70-4a47-8f40-5f22350121a6\",\"type\":\"Rect\"},\"hover_glyph\":null,\"nonselection_glyph\":null,\"selection_glyph\":null},\"id\":\"1ce02347-8c85-475f-9e6a-23abc8c8cc8f\",\"type\":\"GlyphRenderer\"},{\"attributes\":{\"fill_alpha\":{\"field\":\"fill_alpha\"},\"fill_color\":{\"field\":\"color\"},\"height\":{\"field\":\"height\",\"units\":\"data\"},\"line_color\":{\"field\":\"line_color\"},\"width\":{\"field\":\"width\",\"units\":\"data\"},\"x\":{\"field\":\"x\"},\"y\":{\"field\":\"y\"}},\"id\":\"bdd46fe1-a7bf-4414-8e8c-5d3e2e2fbee7\",\"type\":\"Rect\"},{\"attributes\":{\"label\":{\"value\":\"charged\"},\"renderers\":[{\"id\":\"b640dd42-4058-45a2-9296-0bb7c5d6f2cd\",\"type\":\"GlyphRenderer\"}]},\"id\":\"9c0e59d2-3b15-487a-a769-e057caf3da82\",\"type\":\"LegendItem\"},{\"attributes\":{\"data_source\":{\"id\":\"6704c707-8371-4655-8716-369f1325a122\",\"type\":\"ColumnDataSource\"},\"glyph\":{\"id\":\"b03fff40-80ca-43a1-974f-4923c8afbbf3\",\"type\":\"Rect\"},\"hover_glyph\":null,\"nonselection_glyph\":null,\"selection_glyph\":null},\"id\":\"d09da07c-5875-44f0-8023-b204c94def82\",\"type\":\"GlyphRenderer\"},{\"attributes\":{\"data_source\":{\"id\":\"69230e22-45df-43db-81d9-c441b42ab316\",\"type\":\"ColumnDataSource\"},\"glyph\":{\"id\":\"7c4158c0-99cd-4936-a385-ca479ac4ead7\",\"type\":\"Rect\"},\"hover_glyph\":null,\"nonselection_glyph\":null,\"selection_glyph\":null},\"id\":\"f8f312ef-3385-4214-942a-66ed4249695b\",\"type\":\"GlyphRenderer\"},{\"attributes\":{\"data_source\":{\"id\":\"86d8f2aa-ff4f-44b9-8f4e-7b2f6a35ca23\",\"type\":\"ColumnDataSource\"},\"glyph\":{\"id\":\"1417bf7b-a82b-435f-909a-bcfdf5ab2b14\",\"type\":\"Rect\"},\"hover_glyph\":null,\"nonselection_glyph\":null,\"selection_glyph\":null},\"id\":\"f6b18071-01db-4ec9-8d3b-172b6e8ecb2e\",\"type\":\"GlyphRenderer\"},{\"attributes\":{\"fill_alpha\":{\"field\":\"fill_alpha\"},\"fill_color\":{\"field\":\"color\"},\"height\":{\"field\":\"height\",\"units\":\"data\"},\"line_color\":{\"field\":\"line_color\"},\"width\":{\"field\":\"width\",\"units\":\"data\"},\"x\":{\"field\":\"x\"},\"y\":{\"field\":\"y\"}},\"id\":\"cb49599f-e8a5-4133-ae96-131bace60a69\",\"type\":\"Rect\"},{\"attributes\":{\"callback\":null,\"column_names\":[\"x\",\"y\",\"width\",\"height\",\"color\",\"fill_alpha\",\"line_color\",\"line_alpha\",\"label\"],\"data\":{\"chart_index\":[{\"proportion\":\"polar\",\"species\":\"Ursus spelaeus\"}],\"color\":[\"chartreuse\"],\"fill_alpha\":[0.8],\"height\":[0.32981530343007914],\"label\":[{\"proportion\":\"polar\",\"species\":\"Ursus spelaeus\"}],\"line_alpha\":[1.0],\"line_color\":[\"white\"],\"proportion\":[\"polar\"],\"species\":[\"Ursus spelaeus\"],\"width\":[0.8],\"x\":[\"Ursus spelaeus\"],\"y\":[0.25725593667546176]}},\"id\":\"06f9b6f5-8e01-4c4c-a920-75d9edee0251\",\"type\":\"ColumnDataSource\"},{\"attributes\":{\"callback\":null,\"column_names\":[\"x\",\"y\",\"width\",\"height\",\"color\",\"fill_alpha\",\"line_color\",\"line_alpha\",\"label\"],\"data\":{\"chart_index\":[{\"proportion\":\"charged\",\"species\":\"Ursus arctos\"}],\"color\":[\"aqua\"],\"fill_alpha\":[0.8],\"height\":[0.09234828496042216],\"label\":[{\"proportion\":\"charged\",\"species\":\"Ursus arctos\"}],\"line_alpha\":[1.0],\"line_color\":[\"white\"],\"proportion\":[\"charged\"],\"species\":[\"Ursus arctos\"],\"width\":[0.8],\"x\":[\"Ursus arctos\"],\"y\":[0.04617414248021108]}},\"id\":\"71abab17-9ea5-4f41-a6e0-425ae8d9371b\",\"type\":\"ColumnDataSource\"},{\"attributes\":{\"data_source\":{\"id\":\"f7203894-0c87-48cf-b6a6-812825b09e8f\",\"type\":\"ColumnDataSource\"},\"glyph\":{\"id\":\"bdd46fe1-a7bf-4414-8e8c-5d3e2e2fbee7\",\"type\":\"Rect\"},\"hover_glyph\":null,\"nonselection_glyph\":null,\"selection_glyph\":null},\"id\":\"52d4b39b-6bc0-496b-9fa7-46560991157b\",\"type\":\"GlyphRenderer\"},{\"attributes\":{\"data_source\":{\"id\":\"c299d166-e238-4ddf-bc56-822a47d0ff0b\",\"type\":\"ColumnDataSource\"},\"glyph\":{\"id\":\"cb49599f-e8a5-4133-ae96-131bace60a69\",\"type\":\"Rect\"},\"hover_glyph\":null,\"nonselection_glyph\":null,\"selection_glyph\":null},\"id\":\"3ca66a27-2ba4-4fd1-8ebd-468c558165c1\",\"type\":\"GlyphRenderer\"},{\"attributes\":{\"fill_alpha\":{\"field\":\"fill_alpha\"},\"fill_color\":{\"field\":\"color\"},\"height\":{\"field\":\"height\",\"units\":\"data\"},\"line_color\":{\"field\":\"line_color\"},\"width\":{\"field\":\"width\",\"units\":\"data\"},\"x\":{\"field\":\"x\"},\"y\":{\"field\":\"y\"}},\"id\":\"8017f302-22ef-4481-afa8-0733240537e5\",\"type\":\"Rect\"},{\"attributes\":{\"data_source\":{\"id\":\"5f04c3bf-cb03-41e6-a8b0-52d21fef3570\",\"type\":\"ColumnDataSource\"},\"glyph\":{\"id\":\"f1a126a8-9d23-4c20-bd50-83b8d69ebf73\",\"type\":\"Rect\"},\"hover_glyph\":null,\"nonselection_glyph\":null,\"selection_glyph\":null},\"id\":\"350e255b-dfd2-4629-9354-82fb5135b7e0\",\"type\":\"GlyphRenderer\"},{\"attributes\":{\"fill_alpha\":{\"field\":\"fill_alpha\"},\"fill_color\":{\"field\":\"color\"},\"height\":{\"field\":\"height\",\"units\":\"data\"},\"line_color\":{\"field\":\"line_color\"},\"width\":{\"field\":\"width\",\"units\":\"data\"},\"x\":{\"field\":\"x\"},\"y\":{\"field\":\"y\"}},\"id\":\"e039b5af-ece6-4ee9-8e13-e18a8340505e\",\"type\":\"Rect\"},{\"attributes\":{\"below\":[{\"id\":\"a0a0360d-acd0-45ac-9efa-5be2abd3f449\",\"type\":\"CategoricalAxis\"}],\"css_classes\":null,\"left\":[{\"id\":\"5d38e0d3-6233-4196-a89e-c0442c467801\",\"type\":\"LinearAxis\"}],\"renderers\":[{\"id\":\"7f7fa65c-a5bc-405c-92dc-e7a8b7fcdc95\",\"type\":\"BoxAnnotation\"},{\"id\":\"b640dd42-4058-45a2-9296-0bb7c5d6f2cd\",\"type\":\"GlyphRenderer\"},{\"id\":\"1ce02347-8c85-475f-9e6a-23abc8c8cc8f\",\"type\":\"GlyphRenderer\"},{\"id\":\"f6b18071-01db-4ec9-8d3b-172b6e8ecb2e\",\"type\":\"GlyphRenderer\"},{\"id\":\"350e255b-dfd2-4629-9354-82fb5135b7e0\",\"type\":\"GlyphRenderer\"},{\"id\":\"ea8b8ef6-d436-4aa2-b1cb-85983ecfdadf\",\"type\":\"GlyphRenderer\"},{\"id\":\"5e86bb0a-88cd-40ae-986a-9e7ea96894e0\",\"type\":\"GlyphRenderer\"},{\"id\":\"22f25f7a-ee76-4a02-9a3c-dababd6c2c7a\",\"type\":\"GlyphRenderer\"},{\"id\":\"2114d9aa-81d2-4a48-a962-1a6f1b32b799\",\"type\":\"GlyphRenderer\"},{\"id\":\"f8f312ef-3385-4214-942a-66ed4249695b\",\"type\":\"GlyphRenderer\"},{\"id\":\"b108ae06-ae97-4072-9f61-eefc5e625667\",\"type\":\"GlyphRenderer\"},{\"id\":\"ffc0ba1c-b0b5-4aac-9898-376835e8dec7\",\"type\":\"GlyphRenderer\"},{\"id\":\"07562dc7-0897-4ae9-9e05-9d9070ae28d0\",\"type\":\"GlyphRenderer\"},{\"id\":\"3d2e3a40-999e-4b81-8ed3-8302100b2257\",\"type\":\"GlyphRenderer\"},{\"id\":\"27f25973-f8c3-4e62-8300-f754f07a17a8\",\"type\":\"GlyphRenderer\"},{\"id\":\"0071209a-91de-4516-8d8a-2b8e61b41215\",\"type\":\"GlyphRenderer\"},{\"id\":\"52d4b39b-6bc0-496b-9fa7-46560991157b\",\"type\":\"GlyphRenderer\"},{\"id\":\"11c59d04-9692-452e-a039-4daa2eddf040\",\"type\":\"GlyphRenderer\"},{\"id\":\"ddd9fcc5-3077-4d46-9c21-e7ef1be977e2\",\"type\":\"GlyphRenderer\"},{\"id\":\"d09da07c-5875-44f0-8023-b204c94def82\",\"type\":\"GlyphRenderer\"},{\"id\":\"3ca66a27-2ba4-4fd1-8ebd-468c558165c1\",\"type\":\"GlyphRenderer\"},{\"id\":\"81cf1d55-da21-4deb-a697-a48fe558f420\",\"type\":\"GlyphRenderer\"},{\"id\":\"f09511d5-259f-48a8-9414-0af7861e4c9f\",\"type\":\"GlyphRenderer\"},{\"id\":\"022bfa02-666b-43a7-b10c-46be03f08d4e\",\"type\":\"GlyphRenderer\"},{\"id\":\"70616a2c-3c46-4903-943b-a701a509ed66\",\"type\":\"GlyphRenderer\"},{\"id\":\"5836e4be-e3e5-449e-a59a-39b35cc41c94\",\"type\":\"GlyphRenderer\"},{\"id\":\"9cb67651-572d-45a3-9b9f-c8f9cf20545f\",\"type\":\"GlyphRenderer\"},{\"id\":\"0ac54126-8a49-4349-abcd-fb9970cce730\",\"type\":\"GlyphRenderer\"},{\"id\":\"bcb9b976-f000-4734-a24c-297117972f2d\",\"type\":\"Legend\"},{\"id\":\"a0a0360d-acd0-45ac-9efa-5be2abd3f449\",\"type\":\"CategoricalAxis\"},{\"id\":\"5d38e0d3-6233-4196-a89e-c0442c467801\",\"type\":\"LinearAxis\"},{\"id\":\"d319d122-0f07-4d69-af96-6a80def29bee\",\"type\":\"Grid\"}],\"title\":{\"id\":\"2159e67b-e305-489b-bf77-9806558f7066\",\"type\":\"Title\"},\"tool_events\":{\"id\":\"7fac5174-d4b3-4ef0-a626-6ec9ee0b94c9\",\"type\":\"ToolEvents\"},\"toolbar\":{\"id\":\"0c83470f-c713-4cbe-80df-936f06091ef2\",\"type\":\"Toolbar\"},\"x_mapper_type\":\"auto\",\"x_range\":{\"id\":\"019f597e-6b71-4874-ae07-fa7997b95342\",\"type\":\"FactorRange\"},\"y_mapper_type\":\"auto\",\"y_range\":{\"id\":\"4657f242-457d-49d5-8f1d-a4b698300c24\",\"type\":\"Range1d\"}},\"id\":\"b13a5505-17cd-433a-b7e0-abf8a9af624c\",\"subtype\":\"Chart\",\"type\":\"Plot\"},{\"attributes\":{\"data_source\":{\"id\":\"4613a37a-0ab4-464e-8e82-19619737f707\",\"type\":\"ColumnDataSource\"},\"glyph\":{\"id\":\"a2ea0c9b-5767-4fd8-b1a4-1d44c5c6f9d0\",\"type\":\"Rect\"},\"hover_glyph\":null,\"nonselection_glyph\":null,\"selection_glyph\":null},\"id\":\"f09511d5-259f-48a8-9414-0af7861e4c9f\",\"type\":\"GlyphRenderer\"},{\"attributes\":{\"plot\":null,\"text\":\"Proportion of Amino Acid Types by Species\"},\"id\":\"2159e67b-e305-489b-bf77-9806558f7066\",\"type\":\"Title\"},{\"attributes\":{\"fill_alpha\":{\"field\":\"fill_alpha\"},\"fill_color\":{\"field\":\"color\"},\"height\":{\"field\":\"height\",\"units\":\"data\"},\"line_color\":{\"field\":\"line_color\"},\"width\":{\"field\":\"width\",\"units\":\"data\"},\"x\":{\"field\":\"x\"},\"y\":{\"field\":\"y\"}},\"id\":\"f6db601b-c3cb-446b-ac42-45b2545727e2\",\"type\":\"Rect\"},{\"attributes\":{\"fill_alpha\":{\"field\":\"fill_alpha\"},\"fill_color\":{\"field\":\"color\"},\"height\":{\"field\":\"height\",\"units\":\"data\"},\"line_color\":{\"field\":\"line_color\"},\"width\":{\"field\":\"width\",\"units\":\"data\"},\"x\":{\"field\":\"x\"},\"y\":{\"field\":\"y\"}},\"id\":\"4c8fd103-da70-4a47-8f40-5f22350121a6\",\"type\":\"Rect\"},{\"attributes\":{\"callback\":null,\"column_names\":[\"x\",\"y\",\"width\",\"height\",\"color\",\"fill_alpha\",\"line_color\",\"line_alpha\",\"label\"],\"data\":{\"chart_index\":[{\"proportion\":\"polar\",\"species\":\"Helarctos malayanus\"}],\"color\":[\"chartreuse\"],\"fill_alpha\":[0.8],\"height\":[0.3403693931398417],\"label\":[{\"proportion\":\"polar\",\"species\":\"Helarctos malayanus\"}],\"line_alpha\":[1.0],\"line_color\":[\"white\"],\"proportion\":[\"polar\"],\"species\":[\"Helarctos malayanus\"],\"width\":[0.8],\"x\":[\"Helarctos malayanus\"],\"y\":[0.262532981530343]}},\"id\":\"8505a235-b906-48ca-8cc5-1b1fb90b1992\",\"type\":\"ColumnDataSource\"},{\"attributes\":{\"items\":[{\"id\":\"9c0e59d2-3b15-487a-a769-e057caf3da82\",\"type\":\"LegendItem\"},{\"id\":\"2053c217-e897-4d3a-812e-2fca4fc6c4fa\",\"type\":\"LegendItem\"},{\"id\":\"7163373a-3ff3-43e3-95bb-f791a92bfca9\",\"type\":\"LegendItem\"}],\"plot\":{\"id\":\"b13a5505-17cd-433a-b7e0-abf8a9af624c\",\"subtype\":\"Chart\",\"type\":\"Plot\"}},\"id\":\"bcb9b976-f000-4734-a24c-297117972f2d\",\"type\":\"Legend\"},{\"attributes\":{},\"id\":\"7fac5174-d4b3-4ef0-a626-6ec9ee0b94c9\",\"type\":\"ToolEvents\"},{\"attributes\":{\"fill_alpha\":{\"field\":\"fill_alpha\"},\"fill_color\":{\"field\":\"color\"},\"height\":{\"field\":\"height\",\"units\":\"data\"},\"line_color\":{\"field\":\"line_color\"},\"width\":{\"field\":\"width\",\"units\":\"data\"},\"x\":{\"field\":\"x\"},\"y\":{\"field\":\"y\"}},\"id\":\"7c4158c0-99cd-4936-a385-ca479ac4ead7\",\"type\":\"Rect\"},{\"attributes\":{\"active_drag\":\"auto\",\"active_scroll\":\"auto\",\"active_tap\":\"auto\",\"tools\":[{\"id\":\"c77958bc-fd32-4622-a456-18b009b95d75\",\"type\":\"PanTool\"},{\"id\":\"7f5c8960-ad00-49ce-b9f1-18fb993bdc85\",\"type\":\"WheelZoomTool\"},{\"id\":\"db4494c7-67df-44b6-895a-53868266631f\",\"type\":\"BoxZoomTool\"},{\"id\":\"4e0386a0-3f41-4b25-97c2-dcc841a502f6\",\"type\":\"SaveTool\"},{\"id\":\"349736eb-e675-47b8-a007-6373ddae1efd\",\"type\":\"ResetTool\"},{\"id\":\"647998d9-54c6-44f1-86c1-94204a03aa86\",\"type\":\"HelpTool\"}]},\"id\":\"0c83470f-c713-4cbe-80df-936f06091ef2\",\"type\":\"Toolbar\"},{\"attributes\":{\"callback\":null,\"column_names\":[\"x\",\"y\",\"width\",\"height\",\"color\",\"fill_alpha\",\"line_color\",\"line_alpha\",\"label\"],\"data\":{\"chart_index\":[{\"proportion\":\"polar\",\"species\":\"Melursus ursinus\"}],\"color\":[\"chartreuse\"],\"fill_alpha\":[0.8],\"height\":[0.3403693931398417],\"label\":[{\"proportion\":\"polar\",\"species\":\"Melursus ursinus\"}],\"line_alpha\":[1.0],\"line_color\":[\"white\"],\"proportion\":[\"polar\"],\"species\":[\"Melursus ursinus\"],\"width\":[0.8],\"x\":[\"Melursus ursinus\"],\"y\":[0.2598944591029024]}},\"id\":\"8b647560-fa85-49fc-94ab-ec6048210229\",\"type\":\"ColumnDataSource\"},{\"attributes\":{\"data_source\":{\"id\":\"246aedb5-4950-4158-b2bc-735d77a1206e\",\"type\":\"ColumnDataSource\"},\"glyph\":{\"id\":\"e039b5af-ece6-4ee9-8e13-e18a8340505e\",\"type\":\"Rect\"},\"hover_glyph\":null,\"nonselection_glyph\":null,\"selection_glyph\":null},\"id\":\"81cf1d55-da21-4deb-a697-a48fe558f420\",\"type\":\"GlyphRenderer\"},{\"attributes\":{\"callback\":null,\"end\":1.05},\"id\":\"4657f242-457d-49d5-8f1d-a4b698300c24\",\"type\":\"Range1d\"},{\"attributes\":{\"callback\":null,\"column_names\":[\"x\",\"y\",\"width\",\"height\",\"color\",\"fill_alpha\",\"line_color\",\"line_alpha\",\"label\"],\"data\":{\"chart_index\":[{\"proportion\":\"hydrophobic\",\"species\":\"Melursus ursinus\"}],\"color\":[\"deeppink\"],\"fill_alpha\":[0.8],\"height\":[0.5699208443271768],\"label\":[{\"proportion\":\"hydrophobic\",\"species\":\"Melursus ursinus\"}],\"line_alpha\":[1.0],\"line_color\":[\"white\"],\"proportion\":[\"hydrophobic\"],\"species\":[\"Melursus ursinus\"],\"width\":[0.8],\"x\":[\"Melursus ursinus\"],\"y\":[0.7150395778364116]}},\"id\":\"4613a37a-0ab4-464e-8e82-19619737f707\",\"type\":\"ColumnDataSource\"},{\"attributes\":{\"data_source\":{\"id\":\"9ee2aba1-4162-4a56-bb39-33db4f1a74f8\",\"type\":\"ColumnDataSource\"},\"glyph\":{\"id\":\"f6db601b-c3cb-446b-ac42-45b2545727e2\",\"type\":\"Rect\"},\"hover_glyph\":null,\"nonselection_glyph\":null,\"selection_glyph\":null},\"id\":\"ea8b8ef6-d436-4aa2-b1cb-85983ecfdadf\",\"type\":\"GlyphRenderer\"},{\"attributes\":{\"label\":{\"value\":\"polar\"},\"renderers\":[{\"id\":\"b108ae06-ae97-4072-9f61-eefc5e625667\",\"type\":\"GlyphRenderer\"}]},\"id\":\"2053c217-e897-4d3a-812e-2fca4fc6c4fa\",\"type\":\"LegendItem\"},{\"attributes\":{\"fill_alpha\":{\"field\":\"fill_alpha\"},\"fill_color\":{\"field\":\"color\"},\"height\":{\"field\":\"height\",\"units\":\"data\"},\"line_color\":{\"field\":\"line_color\"},\"width\":{\"field\":\"width\",\"units\":\"data\"},\"x\":{\"field\":\"x\"},\"y\":{\"field\":\"y\"}},\"id\":\"a2ea0c9b-5767-4fd8-b1a4-1d44c5c6f9d0\",\"type\":\"Rect\"}],\"root_ids\":[\"b13a5505-17cd-433a-b7e0-abf8a9af624c\"]},\"title\":\"Bokeh Application\",\"version\":\"0.12.4\"}};\n",
       "            var render_items = [{\"docid\":\"534bee0a-06b8-4452-819f-41200cdb4c1d\",\"elementid\":\"f701aeb7-8635-4db1-9836-0a317386bd09\",\"modelid\":\"b13a5505-17cd-433a-b7e0-abf8a9af624c\"}];\n",
       "            \n",
       "            Bokeh.embed.embed_items(docs_json, render_items);\n",
       "          };\n",
       "          if (document.readyState != \"loading\") fn();\n",
       "          else document.addEventListener(\"DOMContentLoaded\", fn);\n",
       "        })();\n",
       "      },\n",
       "      function(Bokeh) {\n",
       "      }\n",
       "    ];\n",
       "  \n",
       "    function run_inline_js() {\n",
       "      \n",
       "      if ((window.Bokeh !== undefined) || (force === true)) {\n",
       "        for (var i = 0; i < inline_js.length; i++) {\n",
       "          inline_js[i](window.Bokeh);\n",
       "        }if (force === true) {\n",
       "          display_loaded();\n",
       "        }} else if (Date.now() < window._bokeh_timeout) {\n",
       "        setTimeout(run_inline_js, 100);\n",
       "      } else if (!window._bokeh_failed_load) {\n",
       "        console.log(\"Bokeh: BokehJS failed to load within specified timeout.\");\n",
       "        window._bokeh_failed_load = true;\n",
       "      } else if (force !== true) {\n",
       "        var cell = $(document.getElementById(\"f701aeb7-8635-4db1-9836-0a317386bd09\")).parents('.cell').data().cell;\n",
       "        cell.output_area.append_execute_result(NB_LOAD_WARNING)\n",
       "      }\n",
       "  \n",
       "    }\n",
       "  \n",
       "    if (window._bokeh_is_loading === 0) {\n",
       "      console.log(\"Bokeh: BokehJS loaded, going straight to plotting\");\n",
       "      run_inline_js();\n",
       "    } else {\n",
       "      load_libs(js_urls, function() {\n",
       "        console.log(\"Bokeh: BokehJS plotting callback run at\", now());\n",
       "        run_inline_js();\n",
       "      });\n",
       "    }\n",
       "  }(this));\n",
       "</script>"
      ]
     },
     "metadata": {},
     "output_type": "display_data"
    }
   ],
   "source": [
    "show(proportions)"
   ]
  },
  {
   "cell_type": "markdown",
   "metadata": {},
   "source": [
    "### Graph Description"
   ]
  },
  {
   "cell_type": "markdown",
   "metadata": {},
   "source": [
    "These graphs show that the content of cytochrome b with respect to amino acids is very similar across species."
   ]
  },
  {
   "cell_type": "markdown",
   "metadata": {
    "collapsed": true
   },
   "source": [
    "## 8. Save dataframe to a csv file"
   ]
  },
  {
   "cell_type": "code",
   "execution_count": 35,
   "metadata": {
    "collapsed": true
   },
   "outputs": [],
   "source": [
    "bear_df.to_csv('bears_mass_cytb.csv', index=False) #index=False gets rid of the row numbers"
   ]
  },
  {
   "cell_type": "markdown",
   "metadata": {},
   "source": [
    "## 9. Bonus calculations:"
   ]
  },
  {
   "cell_type": "code",
   "execution_count": 36,
   "metadata": {
    "collapsed": false
   },
   "outputs": [
    {
     "name": "stdout",
     "output_type": "stream",
     "text": [
      "0.33509234828496043\n",
      "0.5749047200234535\n",
      "0.0923482849604\n"
     ]
    }
   ],
   "source": [
    "## 9. BONUS: What other visualizations, functions or tasks would you do with this dataset? Add something interesting for fun. \n",
    "print(bear_df.polar.median())\n",
    "print(bear_df.hydrophobic.mean())\n",
    "print(bear_df.charged.max())"
   ]
  },
  {
   "cell_type": "markdown",
   "metadata": {},
   "source": [
    "# Program Documentation!\n",
    "http://biopython.org/wiki/Biopython  \n",
    "http://biopython.org/wiki/SeqIO  \n",
    "http://biopython.org/DIST/docs/api/Bio.Data.CodonTable-pysrc.html  \n",
    "http://pandas.pydata.org/  \n",
    "https://docs.python.org/2/library/itertools.html  \n",
    "http://biopython.org/wiki/Seq  \n",
    "http://biopython.org/DIST/docs/api/Bio.Alphabet.IUPAC-module.html  \n",
    "https://seaborn.pydata.org/  \n",
    "http://bokeh.pydata.org/en/latest/"
   ]
  },
  {
   "cell_type": "markdown",
   "metadata": {},
   "source": [
    "# My repository! \n",
    "Name of Repository: **EEOB546X**  \n",
    "**URL: https://github.com/jjudson28/EEOB546X**"
   ]
  }
 ],
 "metadata": {
  "kernelspec": {
   "display_name": "Python 3",
   "language": "python",
   "name": "python3"
  },
  "language_info": {
   "codemirror_mode": {
    "name": "ipython",
    "version": 3
   },
   "file_extension": ".py",
   "mimetype": "text/x-python",
   "name": "python",
   "nbconvert_exporter": "python",
   "pygments_lexer": "ipython3",
   "version": "3.6.0"
  }
 },
 "nbformat": 4,
 "nbformat_minor": 2
}
